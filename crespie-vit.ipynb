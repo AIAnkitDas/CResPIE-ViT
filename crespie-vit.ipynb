{
 "cells": [
  {
   "cell_type": "markdown",
   "metadata": {},
   "source": [
    "# CResPIE-ViT"
   ]
  },
  {
   "cell_type": "code",
   "execution_count": 1,
   "metadata": {
    "execution": {
     "iopub.execute_input": "2024-04-15T08:08:21.396843Z",
     "iopub.status.busy": "2024-04-15T08:08:21.396466Z",
     "iopub.status.idle": "2024-04-15T08:08:33.449529Z",
     "shell.execute_reply": "2024-04-15T08:08:33.448729Z",
     "shell.execute_reply.started": "2024-04-15T08:08:21.396813Z"
    }
   },
   "outputs": [
    {
     "name": "stderr",
     "output_type": "stream",
     "text": [
      "/opt/conda/lib/python3.10/site-packages/scipy/__init__.py:146: UserWarning: A NumPy version >=1.16.5 and <1.23.0 is required for this version of SciPy (detected version 1.24.3\n",
      "  warnings.warn(f\"A NumPy version >={np_minversion} and <{np_maxversion}\"\n"
     ]
    }
   ],
   "source": [
    "import numpy as np\n",
    "import cv2\n",
    "import os\n",
    "import random\n",
    "import matplotlib.pyplot as plt\n",
    "import pickle\n",
    "from sklearn.model_selection import train_test_split\n",
    "from tensorflow.keras.models import Sequential\n",
    "from tensorflow.keras.models import Model\n",
    "import tensorflow as tf\n",
    "from sklearn.metrics import classification_report,confusion_matrix\n",
    "from tensorflow.keras import layers as L\n",
    "from keras.layers import *\n",
    "import keras\n",
    "import tensorflow.keras.backend as K\n",
    "from tensorflow.keras.preprocessing.image import ImageDataGenerator\n",
    "from keras.callbacks import ModelCheckpoint\n",
    "from sklearn.utils import compute_class_weight\n",
    "from sklearn.metrics import accuracy_score, classification_report, confusion_matrix"
   ]
  },
  {
   "cell_type": "markdown",
   "metadata": {},
   "source": [
    "## Training Set"
   ]
  },
  {
   "cell_type": "code",
   "execution_count": 2,
   "metadata": {
    "execution": {
     "iopub.execute_input": "2024-04-15T08:08:46.373451Z",
     "iopub.status.busy": "2024-04-15T08:08:46.372776Z",
     "iopub.status.idle": "2024-04-15T08:08:46.378406Z",
     "shell.execute_reply": "2024-04-15T08:08:46.377460Z",
     "shell.execute_reply.started": "2024-04-15T08:08:46.373411Z"
    }
   },
   "outputs": [],
   "source": [
    "DIRECTORY = r'/kaggle/input/mymosmed-augmented-train-test-dataset/MyMosMed Augmented Train Test Dataset/Augmented Training Set'\n",
    "#DIRECTORY = r'/kaggle/input/mosmed-clahe-train-test/MosMed CLAHE Train Test/CLAHE Augmented Training Set'\n",
    "CATEGORIES = ['CT-0', 'CT-1', 'CT-2', 'CT-3']\n",
    "IMG_SIZE = 224\n",
    "train_data = []"
   ]
  },
  {
   "cell_type": "code",
   "execution_count": 3,
   "metadata": {
    "execution": {
     "iopub.execute_input": "2024-04-15T08:08:49.732233Z",
     "iopub.status.busy": "2024-04-15T08:08:49.731841Z",
     "iopub.status.idle": "2024-04-15T08:10:40.786827Z",
     "shell.execute_reply": "2024-04-15T08:10:40.785999Z",
     "shell.execute_reply.started": "2024-04-15T08:08:49.732204Z"
    }
   },
   "outputs": [],
   "source": [
    "for category in CATEGORIES:\n",
    "    folder = os.path.join(DIRECTORY,category)\n",
    "    #print(folder)\n",
    "    label = CATEGORIES.index(category)\n",
    "    for img in os.listdir(folder):\n",
    "        img_path = os.path.join(folder, img)\n",
    "        # Read image in RGB format\n",
    "        img_arr = cv2.cvtColor(cv2.imread(img_path), cv2.COLOR_BGR2RGB)\n",
    "        # Resize Image\n",
    "        img_arr = cv2.resize(img_arr, (IMG_SIZE, IMG_SIZE))\n",
    "        train_data.append([img_arr, label])"
   ]
  },
  {
   "cell_type": "code",
   "execution_count": 4,
   "metadata": {
    "execution": {
     "iopub.execute_input": "2024-04-15T08:10:40.788591Z",
     "iopub.status.busy": "2024-04-15T08:10:40.788303Z",
     "iopub.status.idle": "2024-04-15T08:10:40.795437Z",
     "shell.execute_reply": "2024-04-15T08:10:40.794491Z",
     "shell.execute_reply.started": "2024-04-15T08:10:40.788567Z"
    }
   },
   "outputs": [
    {
     "data": {
      "text/plain": [
       "9243"
      ]
     },
     "execution_count": 4,
     "metadata": {},
     "output_type": "execute_result"
    }
   ],
   "source": [
    "len(train_data)"
   ]
  },
  {
   "cell_type": "code",
   "execution_count": 5,
   "metadata": {
    "execution": {
     "iopub.execute_input": "2024-04-15T08:10:40.797147Z",
     "iopub.status.busy": "2024-04-15T08:10:40.796793Z",
     "iopub.status.idle": "2024-04-15T08:10:40.815526Z",
     "shell.execute_reply": "2024-04-15T08:10:40.814700Z",
     "shell.execute_reply.started": "2024-04-15T08:10:40.797108Z"
    }
   },
   "outputs": [],
   "source": [
    "random.shuffle(train_data)"
   ]
  },
  {
   "cell_type": "code",
   "execution_count": 6,
   "metadata": {
    "execution": {
     "iopub.execute_input": "2024-04-15T08:10:40.818232Z",
     "iopub.status.busy": "2024-04-15T08:10:40.817888Z",
     "iopub.status.idle": "2024-04-15T08:10:40.831960Z",
     "shell.execute_reply": "2024-04-15T08:10:40.831221Z",
     "shell.execute_reply.started": "2024-04-15T08:10:40.818203Z"
    }
   },
   "outputs": [],
   "source": [
    "X_train = []\n",
    "y_train = []\n",
    "\n",
    "for features, labels in train_data:\n",
    "    X_train.append(features)\n",
    "    y_train.append(labels)"
   ]
  },
  {
   "cell_type": "markdown",
   "metadata": {},
   "source": [
    "## Test Set"
   ]
  },
  {
   "cell_type": "code",
   "execution_count": 7,
   "metadata": {
    "execution": {
     "iopub.execute_input": "2024-04-15T08:10:40.833242Z",
     "iopub.status.busy": "2024-04-15T08:10:40.832954Z",
     "iopub.status.idle": "2024-04-15T08:10:40.843698Z",
     "shell.execute_reply": "2024-04-15T08:10:40.842871Z",
     "shell.execute_reply.started": "2024-04-15T08:10:40.833219Z"
    }
   },
   "outputs": [],
   "source": [
    "DIRECTORY = r'/kaggle/input/mymosmed-augmented-train-test-dataset/MyMosMed Augmented Train Test Dataset/test'\n",
    "#DIRECTORY = r'/kaggle/input/mosmed-clahe-train-test/MosMed CLAHE Train Test/CLAHE Test Set'\n",
    "CATEGORIES = ['CT-0', 'CT-1', 'CT-2', 'CT-3']\n",
    "IMG_SIZE = 224\n",
    "test_data = []"
   ]
  },
  {
   "cell_type": "code",
   "execution_count": 8,
   "metadata": {
    "execution": {
     "iopub.execute_input": "2024-04-15T08:10:40.844875Z",
     "iopub.status.busy": "2024-04-15T08:10:40.844628Z",
     "iopub.status.idle": "2024-04-15T08:11:01.044913Z",
     "shell.execute_reply": "2024-04-15T08:11:01.044096Z",
     "shell.execute_reply.started": "2024-04-15T08:10:40.844853Z"
    }
   },
   "outputs": [],
   "source": [
    "for category in CATEGORIES:\n",
    "    folder = os.path.join(DIRECTORY,category)\n",
    "    #print(folder)\n",
    "    label = CATEGORIES.index(category)\n",
    "    for img in os.listdir(folder):\n",
    "        img_path = os.path.join(folder, img)\n",
    "        # Read image in RGB format\n",
    "        img_arr = cv2.cvtColor(cv2.imread(img_path), cv2.COLOR_BGR2RGB)\n",
    "        # Resize Image\n",
    "        img_arr = cv2.resize(img_arr, (IMG_SIZE, IMG_SIZE))\n",
    "        test_data.append([img_arr, label])"
   ]
  },
  {
   "cell_type": "code",
   "execution_count": 9,
   "metadata": {
    "execution": {
     "iopub.execute_input": "2024-04-15T08:11:01.046386Z",
     "iopub.status.busy": "2024-04-15T08:11:01.046110Z",
     "iopub.status.idle": "2024-04-15T08:11:01.051930Z",
     "shell.execute_reply": "2024-04-15T08:11:01.051084Z",
     "shell.execute_reply.started": "2024-04-15T08:11:01.046362Z"
    }
   },
   "outputs": [
    {
     "data": {
      "text/plain": [
       "1666"
      ]
     },
     "execution_count": 9,
     "metadata": {},
     "output_type": "execute_result"
    }
   ],
   "source": [
    "len(test_data)"
   ]
  },
  {
   "cell_type": "code",
   "execution_count": 10,
   "metadata": {
    "execution": {
     "iopub.execute_input": "2024-04-15T08:11:01.053373Z",
     "iopub.status.busy": "2024-04-15T08:11:01.053056Z",
     "iopub.status.idle": "2024-04-15T08:11:01.063232Z",
     "shell.execute_reply": "2024-04-15T08:11:01.062536Z",
     "shell.execute_reply.started": "2024-04-15T08:11:01.053345Z"
    }
   },
   "outputs": [],
   "source": [
    "X_test = []\n",
    "y_test = []\n",
    "\n",
    "for features, labels in test_data:\n",
    "    X_test.append(features)\n",
    "    y_test.append(labels)"
   ]
  },
  {
   "cell_type": "code",
   "execution_count": 11,
   "metadata": {
    "execution": {
     "iopub.execute_input": "2024-04-15T08:11:01.064632Z",
     "iopub.status.busy": "2024-04-15T08:11:01.064289Z",
     "iopub.status.idle": "2024-04-15T08:11:01.560218Z",
     "shell.execute_reply": "2024-04-15T08:11:01.559423Z",
     "shell.execute_reply.started": "2024-04-15T08:11:01.064608Z"
    }
   },
   "outputs": [],
   "source": [
    "X_train = np.array(X_train)\n",
    "y_train = np.array(y_train)\n",
    "X_test = np.array(X_test)\n",
    "y_test = np.array(y_test)"
   ]
  },
  {
   "cell_type": "code",
   "execution_count": 12,
   "metadata": {
    "execution": {
     "iopub.execute_input": "2024-04-15T08:11:01.563239Z",
     "iopub.status.busy": "2024-04-15T08:11:01.562985Z",
     "iopub.status.idle": "2024-04-15T08:11:01.569234Z",
     "shell.execute_reply": "2024-04-15T08:11:01.568397Z",
     "shell.execute_reply.started": "2024-04-15T08:11:01.563217Z"
    }
   },
   "outputs": [
    {
     "data": {
      "text/plain": [
       "((9243, 224, 224, 3), (1666, 224, 224, 3), (9243,), (1666,))"
      ]
     },
     "execution_count": 12,
     "metadata": {},
     "output_type": "execute_result"
    }
   ],
   "source": [
    "X_train.shape, X_test.shape, y_train.shape, y_test.shape"
   ]
  },
  {
   "cell_type": "markdown",
   "metadata": {},
   "source": [
    "## Channel and Spatial Attention Module"
   ]
  },
  {
   "cell_type": "code",
   "execution_count": 13,
   "metadata": {
    "execution": {
     "iopub.execute_input": "2024-04-15T08:11:01.570675Z",
     "iopub.status.busy": "2024-04-15T08:11:01.570414Z",
     "iopub.status.idle": "2024-04-15T08:11:01.588541Z",
     "shell.execute_reply": "2024-04-15T08:11:01.587661Z",
     "shell.execute_reply.started": "2024-04-15T08:11:01.570651Z"
    }
   },
   "outputs": [],
   "source": [
    "class SpatialAttentionModule(tf.keras.layers.Layer):\n",
    "    def __init__(self, kernel_size=3):\n",
    "        '''\n",
    "        paper: https://arxiv.org/abs/1807.06521\n",
    "        code: https://gist.github.com/innat/99888fa8065ecbf3ae2b297e5c10db70\n",
    "        '''\n",
    "        super(SpatialAttentionModule, self).__init__()\n",
    "        self.conv1 = tf.keras.layers.Conv2D(64, kernel_size=kernel_size, \n",
    "                                            use_bias=False, \n",
    "                                            kernel_initializer='he_normal',\n",
    "                                            strides=1, padding='same', \n",
    "                                            activation=tf.nn.relu)\n",
    "        self.conv2 = tf.keras.layers.Conv2D(32, kernel_size=kernel_size, \n",
    "                                            use_bias=False, \n",
    "                                            kernel_initializer='he_normal',\n",
    "                                            strides=1, padding='same', \n",
    "                                            activation=tf.nn.relu)\n",
    "        self.conv3 = tf.keras.layers.Conv2D(16, kernel_size=kernel_size, \n",
    "                                            use_bias=False, \n",
    "                                            kernel_initializer='he_normal',\n",
    "                                            strides=1, padding='same', \n",
    "                                            activation=tf.nn.relu)\n",
    "        self.conv4 = tf.keras.layers.Conv2D(1, kernel_size=kernel_size,  \n",
    "                                            use_bias=False,\n",
    "                                            kernel_initializer='he_normal',\n",
    "                                            strides=1, padding='same', \n",
    "                                            activation=tf.math.sigmoid)\n",
    "\n",
    "    def call(self, inputs):\n",
    "        avg_out = tf.reduce_mean(inputs, axis=3)\n",
    "        max_out = tf.reduce_max(inputs,  axis=3)\n",
    "        x = tf.stack([avg_out, max_out], axis=3) \n",
    "        x = self.conv1(x)\n",
    "        x = self.conv2(x)\n",
    "        x = self.conv3(x)\n",
    "        return self.conv4(x)\n",
    "    \n",
    "\n",
    "class ChannelAttentionModule(tf.keras.layers.Layer):\n",
    "    def __init__(self, ratio=8):\n",
    "        '''\n",
    "        paper: https://arxiv.org/abs/1807.06521\n",
    "        code: https://gist.github.com/innat/99888fa8065ecbf3ae2b297e5c10db70\n",
    "        '''\n",
    "        super(ChannelAttentionModule, self).__init__()\n",
    "        self.ratio = ratio\n",
    "        self.gapavg = tf.keras.layers.GlobalAveragePooling2D()\n",
    "        self.gmpmax = tf.keras.layers.GlobalMaxPooling2D()\n",
    "        \n",
    "    def build(self, input_shape):\n",
    "        self.conv1 = tf.keras.layers.Conv2D(input_shape[-1]//self.ratio, \n",
    "                                            kernel_size=1, \n",
    "                                            strides=1, padding='same',\n",
    "                                            use_bias=True, activation=tf.nn.relu)\n",
    "    \n",
    "        self.conv2 = tf.keras.layers.Conv2D(input_shape[-1], \n",
    "                                            kernel_size=1, \n",
    "                                            strides=1, padding='same',\n",
    "                                            use_bias=True, activation=tf.nn.relu)\n",
    "        super(ChannelAttentionModule, self).build(input_shape)\n",
    "\n",
    "    def call(self, inputs):\n",
    "        # compute gap and gmp pooling \n",
    "        gapavg = self.gapavg(inputs)\n",
    "        gmpmax = self.gmpmax(inputs)\n",
    "        gapavg = tf.keras.layers.Reshape((1, 1, gapavg.shape[1]))(gapavg)   \n",
    "        gmpmax = tf.keras.layers.Reshape((1, 1, gmpmax.shape[1]))(gmpmax)   \n",
    "        # forward passing to the respected layers\n",
    "        gapavg_out = self.conv2(self.conv1(gapavg))\n",
    "        gmpmax_out = self.conv2(self.conv1(gmpmax))\n",
    "        return tf.math.sigmoid(gapavg_out + gmpmax_out)\n",
    "    \n",
    "    def get_output_shape_for(self, input_shape):\n",
    "        return self.compute_output_shape(input_shape)\n",
    "\n",
    "    def compute_output_shape(self, input_shape):\n",
    "        output_len = input_shape[3]\n",
    "        return (input_shape[0], output_len)"
   ]
  },
  {
   "cell_type": "markdown",
   "metadata": {},
   "source": [
    "# PIE"
   ]
  },
  {
   "cell_type": "code",
   "execution_count": 14,
   "metadata": {
    "execution": {
     "iopub.execute_input": "2024-04-15T08:11:33.853294Z",
     "iopub.status.busy": "2024-04-15T08:11:33.852678Z",
     "iopub.status.idle": "2024-04-15T08:11:33.860370Z",
     "shell.execute_reply": "2024-04-15T08:11:33.859352Z",
     "shell.execute_reply.started": "2024-04-15T08:11:33.853263Z"
    }
   },
   "outputs": [],
   "source": [
    "def PIE(x, filters):\n",
    "    y = Conv2D(filters, (3,3), activation='relu', padding='same')(x)\n",
    "    y = BatchNormalization()(y)\n",
    "   \n",
    "    z = Conv2D(filters, (3,3), activation='relu', padding='same')(x)\n",
    "    z = BatchNormalization()(z)\n",
    "    z_skip = z\n",
    "    z_ca = ChannelAttentionModule()(z)\n",
    "    z_sa = SpatialAttentionModule()(z)\n",
    "    z = Multiply()([z_ca, z_sa])\n",
    "\n",
    "    z_concat = Concatenate()([z, z_skip]) # Previously Concatenate\n",
    "\n",
    "    z = Conv2D(filters, (3,3), activation='relu', padding='same')(z_concat)\n",
    "    z = BatchNormalization()(z)\n",
    "\n",
    "    z = Add()([z, y])\n",
    "   \n",
    "    return z"
   ]
  },
  {
   "cell_type": "markdown",
   "metadata": {},
   "source": [
    "# CViT"
   ]
  },
  {
   "cell_type": "markdown",
   "metadata": {},
   "source": [
    "### MLP"
   ]
  },
  {
   "cell_type": "code",
   "execution_count": 15,
   "metadata": {
    "execution": {
     "iopub.execute_input": "2024-04-15T08:11:41.243595Z",
     "iopub.status.busy": "2024-04-15T08:11:41.243188Z",
     "iopub.status.idle": "2024-04-15T08:11:41.251310Z",
     "shell.execute_reply": "2024-04-15T08:11:41.249873Z",
     "shell.execute_reply.started": "2024-04-15T08:11:41.243566Z"
    }
   },
   "outputs": [],
   "source": [
    "def mlp(x, mlp_dim, dim, dropout_rate=0.1):\n",
    "    x = L.Dense(mlp_dim, activation='swish')(x)\n",
    "    x = L.Dropout(dropout_rate)(x)\n",
    "    x = L.Dense(dim)(x)\n",
    "    x = L.Dropout(dropout_rate)(x)\n",
    "    return x"
   ]
  },
  {
   "cell_type": "markdown",
   "metadata": {},
   "source": [
    "### Transformer Encoder"
   ]
  },
  {
   "cell_type": "code",
   "execution_count": 16,
   "metadata": {
    "execution": {
     "iopub.execute_input": "2024-04-15T08:11:46.843932Z",
     "iopub.status.busy": "2024-04-15T08:11:46.843192Z",
     "iopub.status.idle": "2024-04-15T08:11:46.849533Z",
     "shell.execute_reply": "2024-04-15T08:11:46.848472Z",
     "shell.execute_reply.started": "2024-04-15T08:11:46.843902Z"
    }
   },
   "outputs": [],
   "source": [
    "def transformer_encoder(x, num_heads, dim, mlp_dim):\n",
    "    skip_1 = x\n",
    "    x = L.LayerNormalization()(x)\n",
    "    x = L.MultiHeadAttention(num_heads=num_heads,\n",
    "                             key_dim=dim)(x, x)\n",
    "    x = L.Add()([x, skip_1])\n",
    "    \n",
    "    skip_2 = x\n",
    "    x = L.LayerNormalization()(x)\n",
    "    x = mlp(x, mlp_dim, dim)\n",
    "    x = L.Add()([x, skip_2])\n",
    "    \n",
    "    return x"
   ]
  },
  {
   "cell_type": "markdown",
   "metadata": {},
   "source": [
    "## CViT Block"
   ]
  },
  {
   "cell_type": "code",
   "execution_count": 17,
   "metadata": {
    "execution": {
     "iopub.execute_input": "2024-04-15T08:11:55.843032Z",
     "iopub.status.busy": "2024-04-15T08:11:55.842647Z",
     "iopub.status.idle": "2024-04-15T08:11:55.853857Z",
     "shell.execute_reply": "2024-04-15T08:11:55.852824Z",
     "shell.execute_reply.started": "2024-04-15T08:11:55.843003Z"
    }
   },
   "outputs": [],
   "source": [
    "import tensorflow as tf\n",
    "from tensorflow.keras import layers as L\n",
    "\n",
    "def compact_vit_block(inputs, num_filters, dim, patch_size=2, num_layers=1):\n",
    "    B, H, W, C = inputs.shape\n",
    "    \n",
    "    # Patch Embeddings\n",
    "    patch_embeddings = L.Conv2D(filters=dim,\n",
    "                               kernel_size=3,\n",
    "                               strides=patch_size,\n",
    "                               padding='valid',\n",
    "                               use_bias=False)(inputs)\n",
    "    patch_embeddings = L.BatchNormalization()(patch_embeddings)\n",
    "    patch_embeddings = L.Activation('swish')(patch_embeddings)\n",
    "    \n",
    "    # Reshape x to Flattened Patches\n",
    "    P = (H // patch_size) * (W // patch_size)\n",
    "    N = dim\n",
    "    patch_embeddings = L.Reshape((P, N))(patch_embeddings)\n",
    "\n",
    "    # Positional Embeddings\n",
    "    positional_embeddings = L.Embedding(input_dim=P, output_dim=N)(tf.range(P))\n",
    "    x = patch_embeddings + positional_embeddings\n",
    "    \n",
    "    # Transformer Encoder\n",
    "    for _ in range(num_layers):\n",
    "        x = transformer_encoder(x, 8, dim, dim*2) ### num_heads of Multi Head Attention set to 8\n",
    "        \n",
    "    # Reshape it back\n",
    "    x = L.Reshape((H // patch_size, W // patch_size, dim))(x)\n",
    "    \n",
    "    # Upsample back to the original size\n",
    "    x = L.UpSampling2D(size=patch_size)(x)\n",
    "    \n",
    "    #1x1 conv\n",
    "    x = L.Conv2D(filters=C,\n",
    "                 kernel_size=1,\n",
    "                 padding='same',\n",
    "                 use_bias=False)(x)\n",
    "    x = L.BatchNormalization()(x)\n",
    "    x = L.Activation('swish')(x)\n",
    "    \n",
    "    # Concatenate\n",
    "    x = L.Concatenate()([x, inputs])\n",
    "    \n",
    "    #3x3 conv\n",
    "    x = L.Conv2D(filters=num_filters,\n",
    "                 kernel_size=1,\n",
    "                 padding='same',\n",
    "                 use_bias=False)(x)\n",
    "    x = L.BatchNormalization()(x)\n",
    "    x = L.Activation('swish')(x)\n",
    "    \n",
    "    return x\n"
   ]
  },
  {
   "cell_type": "markdown",
   "metadata": {},
   "source": [
    "# Residual Network"
   ]
  },
  {
   "cell_type": "code",
   "execution_count": 19,
   "metadata": {
    "execution": {
     "iopub.execute_input": "2024-04-15T08:12:36.397306Z",
     "iopub.status.busy": "2024-04-15T08:12:36.396637Z",
     "iopub.status.idle": "2024-04-15T08:12:36.404235Z",
     "shell.execute_reply": "2024-04-15T08:12:36.403259Z",
     "shell.execute_reply.started": "2024-04-15T08:12:36.397273Z"
    }
   },
   "outputs": [],
   "source": [
    "def residual_block(x, filters, kernel_size=3, stride=1):\n",
    "    # Shortcut\n",
    "    x1 = PIE(x, filters)\n",
    "    shortcut = x1\n",
    "\n",
    "    # First convolution layer\n",
    "    x = SeparableConv2D(filters, kernel_size=kernel_size, strides=stride, padding='same')(x)\n",
    "    x = BatchNormalization()(x)\n",
    "    x = Activation('relu')(x)\n",
    "\n",
    "    # Second convolution layer\n",
    "    x = SeparableConv2D(filters, kernel_size=kernel_size, strides=1, padding='same')(x)\n",
    "    x = BatchNormalization()(x)\n",
    "\n",
    "    # Adjusting shortcut connection shape if stride is not 1\n",
    "    if stride != 1:\n",
    "        shortcut = SeparableConv2D(filters, kernel_size=1, strides=stride, padding='same')(shortcut)\n",
    "        shortcut = BatchNormalization()(shortcut)\n",
    "\n",
    "    # Adding shortcut to the output\n",
    "    x = Add()([x, shortcut])\n",
    "    x = Activation('relu')(x)\n",
    "\n",
    "    return x"
   ]
  },
  {
   "cell_type": "markdown",
   "metadata": {},
   "source": [
    "# My Model"
   ]
  },
  {
   "cell_type": "code",
   "execution_count": 21,
   "metadata": {
    "execution": {
     "iopub.execute_input": "2024-04-15T08:14:42.493726Z",
     "iopub.status.busy": "2024-04-15T08:14:42.492793Z",
     "iopub.status.idle": "2024-04-15T08:14:45.186438Z",
     "shell.execute_reply": "2024-04-15T08:14:45.185659Z",
     "shell.execute_reply.started": "2024-04-15T08:14:42.493692Z"
    }
   },
   "outputs": [],
   "source": [
    "inputs = Input((224,224,3))\n",
    "\n",
    "x = compact_vit_block(inputs, 64, 64, patch_size=16, num_layers=4)\n",
    "x = MaxPooling2D((2,2))(x)\n",
    "x = BatchNormalization()(x)\n",
    "x = PIE(x, 64) \n",
    "\n",
    "x = SeparableConv2D(64, (1,1), activation='relu')(x) \n",
    "x = MaxPooling2D((2,2))(x)\n",
    "x = BatchNormalization()(x)\n",
    "\n",
    "x = residual_block(x, filters=64)\n",
    "\n",
    "x = SeparableConv2D(128, (1,1), activation='relu')(x)\n",
    "x = MaxPooling2D((2,2))(x)\n",
    "x = BatchNormalization()(x)\n",
    "\n",
    "x = residual_block(x, filters=128)\n",
    "\n",
    "x = SeparableConv2D(256, (1,1), activation='relu')(x)\n",
    "x = MaxPooling2D((2,2))(x)\n",
    "x = BatchNormalization()(x)\n",
    "\n",
    "x = residual_block(x, filters=256)\n",
    "\n",
    "x = SeparableConv2D(256, (1,1), activation='relu')(x)\n",
    "x = MaxPooling2D((2,2))(x)\n",
    "x = BatchNormalization()(x)"
   ]
  },
  {
   "cell_type": "code",
   "execution_count": 22,
   "metadata": {
    "execution": {
     "iopub.execute_input": "2024-04-15T08:14:52.819677Z",
     "iopub.status.busy": "2024-04-15T08:14:52.819269Z",
     "iopub.status.idle": "2024-04-15T08:14:52.842868Z",
     "shell.execute_reply": "2024-04-15T08:14:52.842147Z",
     "shell.execute_reply.started": "2024-04-15T08:14:52.819636Z"
    }
   },
   "outputs": [],
   "source": [
    "model = keras.Model(inputs, x)"
   ]
  },
  {
   "cell_type": "code",
   "execution_count": 23,
   "metadata": {
    "execution": {
     "iopub.execute_input": "2024-04-15T08:15:34.323939Z",
     "iopub.status.busy": "2024-04-15T08:15:34.323222Z",
     "iopub.status.idle": "2024-04-15T08:15:34.671348Z",
     "shell.execute_reply": "2024-04-15T08:15:34.670438Z",
     "shell.execute_reply.started": "2024-04-15T08:15:34.323905Z"
    }
   },
   "outputs": [
    {
     "name": "stdout",
     "output_type": "stream",
     "text": [
      "Model: \"model\"\n",
      "__________________________________________________________________________________________________\n",
      " Layer (type)                Output Shape                 Param #   Connected to                  \n",
      "==================================================================================================\n",
      " input_2 (InputLayer)        [(None, 224, 224, 3)]        0         []                            \n",
      "                                                                                                  \n",
      " conv2d (Conv2D)             (None, 14, 14, 64)           1728      ['input_2[0][0]']             \n",
      "                                                                                                  \n",
      " batch_normalization (Batch  (None, 14, 14, 64)           256       ['conv2d[0][0]']              \n",
      " Normalization)                                                                                   \n",
      "                                                                                                  \n",
      " activation (Activation)     (None, 14, 14, 64)           0         ['batch_normalization[0][0]'] \n",
      "                                                                                                  \n",
      " reshape (Reshape)           (None, 196, 64)              0         ['activation[0][0]']          \n",
      "                                                                                                  \n",
      " tf.__operators__.add (TFOp  (None, 196, 64)              0         ['reshape[0][0]']             \n",
      " Lambda)                                                                                          \n",
      "                                                                                                  \n",
      " layer_normalization (Layer  (None, 196, 64)              128       ['tf.__operators__.add[0][0]']\n",
      " Normalization)                                                                                   \n",
      "                                                                                                  \n",
      " multi_head_attention (Mult  (None, 196, 64)              132672    ['layer_normalization[0][0]', \n",
      " iHeadAttention)                                                     'layer_normalization[0][0]'] \n",
      "                                                                                                  \n",
      " add (Add)                   (None, 196, 64)              0         ['multi_head_attention[0][0]',\n",
      "                                                                     'tf.__operators__.add[0][0]']\n",
      "                                                                                                  \n",
      " layer_normalization_1 (Lay  (None, 196, 64)              128       ['add[0][0]']                 \n",
      " erNormalization)                                                                                 \n",
      "                                                                                                  \n",
      " dense (Dense)               (None, 196, 128)             8320      ['layer_normalization_1[0][0]'\n",
      "                                                                    ]                             \n",
      "                                                                                                  \n",
      " dropout (Dropout)           (None, 196, 128)             0         ['dense[0][0]']               \n",
      "                                                                                                  \n",
      " dense_1 (Dense)             (None, 196, 64)              8256      ['dropout[0][0]']             \n",
      "                                                                                                  \n",
      " dropout_1 (Dropout)         (None, 196, 64)              0         ['dense_1[0][0]']             \n",
      "                                                                                                  \n",
      " add_1 (Add)                 (None, 196, 64)              0         ['dropout_1[0][0]',           \n",
      "                                                                     'add[0][0]']                 \n",
      "                                                                                                  \n",
      " layer_normalization_2 (Lay  (None, 196, 64)              128       ['add_1[0][0]']               \n",
      " erNormalization)                                                                                 \n",
      "                                                                                                  \n",
      " multi_head_attention_1 (Mu  (None, 196, 64)              132672    ['layer_normalization_2[0][0]'\n",
      " ltiHeadAttention)                                                  , 'layer_normalization_2[0][0]\n",
      "                                                                    ']                            \n",
      "                                                                                                  \n",
      " add_2 (Add)                 (None, 196, 64)              0         ['multi_head_attention_1[0][0]\n",
      "                                                                    ',                            \n",
      "                                                                     'add_1[0][0]']               \n",
      "                                                                                                  \n",
      " layer_normalization_3 (Lay  (None, 196, 64)              128       ['add_2[0][0]']               \n",
      " erNormalization)                                                                                 \n",
      "                                                                                                  \n",
      " dense_2 (Dense)             (None, 196, 128)             8320      ['layer_normalization_3[0][0]'\n",
      "                                                                    ]                             \n",
      "                                                                                                  \n",
      " dropout_2 (Dropout)         (None, 196, 128)             0         ['dense_2[0][0]']             \n",
      "                                                                                                  \n",
      " dense_3 (Dense)             (None, 196, 64)              8256      ['dropout_2[0][0]']           \n",
      "                                                                                                  \n",
      " dropout_3 (Dropout)         (None, 196, 64)              0         ['dense_3[0][0]']             \n",
      "                                                                                                  \n",
      " add_3 (Add)                 (None, 196, 64)              0         ['dropout_3[0][0]',           \n",
      "                                                                     'add_2[0][0]']               \n",
      "                                                                                                  \n",
      " layer_normalization_4 (Lay  (None, 196, 64)              128       ['add_3[0][0]']               \n",
      " erNormalization)                                                                                 \n",
      "                                                                                                  \n",
      " multi_head_attention_2 (Mu  (None, 196, 64)              132672    ['layer_normalization_4[0][0]'\n",
      " ltiHeadAttention)                                                  , 'layer_normalization_4[0][0]\n",
      "                                                                    ']                            \n",
      "                                                                                                  \n",
      " add_4 (Add)                 (None, 196, 64)              0         ['multi_head_attention_2[0][0]\n",
      "                                                                    ',                            \n",
      "                                                                     'add_3[0][0]']               \n",
      "                                                                                                  \n",
      " layer_normalization_5 (Lay  (None, 196, 64)              128       ['add_4[0][0]']               \n",
      " erNormalization)                                                                                 \n",
      "                                                                                                  \n",
      " dense_4 (Dense)             (None, 196, 128)             8320      ['layer_normalization_5[0][0]'\n",
      "                                                                    ]                             \n",
      "                                                                                                  \n",
      " dropout_4 (Dropout)         (None, 196, 128)             0         ['dense_4[0][0]']             \n",
      "                                                                                                  \n",
      " dense_5 (Dense)             (None, 196, 64)              8256      ['dropout_4[0][0]']           \n",
      "                                                                                                  \n",
      " dropout_5 (Dropout)         (None, 196, 64)              0         ['dense_5[0][0]']             \n",
      "                                                                                                  \n",
      " add_5 (Add)                 (None, 196, 64)              0         ['dropout_5[0][0]',           \n",
      "                                                                     'add_4[0][0]']               \n",
      "                                                                                                  \n",
      " layer_normalization_6 (Lay  (None, 196, 64)              128       ['add_5[0][0]']               \n",
      " erNormalization)                                                                                 \n",
      "                                                                                                  \n",
      " multi_head_attention_3 (Mu  (None, 196, 64)              132672    ['layer_normalization_6[0][0]'\n",
      " ltiHeadAttention)                                                  , 'layer_normalization_6[0][0]\n",
      "                                                                    ']                            \n",
      "                                                                                                  \n",
      " add_6 (Add)                 (None, 196, 64)              0         ['multi_head_attention_3[0][0]\n",
      "                                                                    ',                            \n",
      "                                                                     'add_5[0][0]']               \n",
      "                                                                                                  \n",
      " layer_normalization_7 (Lay  (None, 196, 64)              128       ['add_6[0][0]']               \n",
      " erNormalization)                                                                                 \n",
      "                                                                                                  \n",
      " dense_6 (Dense)             (None, 196, 128)             8320      ['layer_normalization_7[0][0]'\n",
      "                                                                    ]                             \n",
      "                                                                                                  \n",
      " dropout_6 (Dropout)         (None, 196, 128)             0         ['dense_6[0][0]']             \n",
      "                                                                                                  \n",
      " dense_7 (Dense)             (None, 196, 64)              8256      ['dropout_6[0][0]']           \n",
      "                                                                                                  \n",
      " dropout_7 (Dropout)         (None, 196, 64)              0         ['dense_7[0][0]']             \n",
      "                                                                                                  \n",
      " add_7 (Add)                 (None, 196, 64)              0         ['dropout_7[0][0]',           \n",
      "                                                                     'add_6[0][0]']               \n",
      "                                                                                                  \n",
      " reshape_1 (Reshape)         (None, 14, 14, 64)           0         ['add_7[0][0]']               \n",
      "                                                                                                  \n",
      " up_sampling2d (UpSampling2  (None, 224, 224, 64)         0         ['reshape_1[0][0]']           \n",
      " D)                                                                                               \n",
      "                                                                                                  \n",
      " conv2d_1 (Conv2D)           (None, 224, 224, 3)          192       ['up_sampling2d[0][0]']       \n",
      "                                                                                                  \n",
      " batch_normalization_1 (Bat  (None, 224, 224, 3)          12        ['conv2d_1[0][0]']            \n",
      " chNormalization)                                                                                 \n",
      "                                                                                                  \n",
      " activation_1 (Activation)   (None, 224, 224, 3)          0         ['batch_normalization_1[0][0]'\n",
      "                                                                    ]                             \n",
      "                                                                                                  \n",
      " concatenate (Concatenate)   (None, 224, 224, 6)          0         ['activation_1[0][0]',        \n",
      "                                                                     'input_2[0][0]']             \n",
      "                                                                                                  \n",
      " conv2d_2 (Conv2D)           (None, 224, 224, 64)         384       ['concatenate[0][0]']         \n",
      "                                                                                                  \n",
      " batch_normalization_2 (Bat  (None, 224, 224, 64)         256       ['conv2d_2[0][0]']            \n",
      " chNormalization)                                                                                 \n",
      "                                                                                                  \n",
      " activation_2 (Activation)   (None, 224, 224, 64)         0         ['batch_normalization_2[0][0]'\n",
      "                                                                    ]                             \n",
      "                                                                                                  \n",
      " max_pooling2d (MaxPooling2  (None, 112, 112, 64)         0         ['activation_2[0][0]']        \n",
      " D)                                                                                               \n",
      "                                                                                                  \n",
      " batch_normalization_3 (Bat  (None, 112, 112, 64)         256       ['max_pooling2d[0][0]']       \n",
      " chNormalization)                                                                                 \n",
      "                                                                                                  \n",
      " conv2d_4 (Conv2D)           (None, 112, 112, 64)         36928     ['batch_normalization_3[0][0]'\n",
      "                                                                    ]                             \n",
      "                                                                                                  \n",
      " batch_normalization_5 (Bat  (None, 112, 112, 64)         256       ['conv2d_4[0][0]']            \n",
      " chNormalization)                                                                                 \n",
      "                                                                                                  \n",
      " channel_attention_module (  (None, 1, 1, 64)             1096      ['batch_normalization_5[0][0]'\n",
      " ChannelAttentionModule)                                            ]                             \n",
      "                                                                                                  \n",
      " spatial_attention_module (  (None, 112, 112, 1)          24336     ['batch_normalization_5[0][0]'\n",
      " SpatialAttentionModule)                                            ]                             \n",
      "                                                                                                  \n",
      " multiply (Multiply)         (None, 112, 112, 64)         0         ['channel_attention_module[0][\n",
      "                                                                    0]',                          \n",
      "                                                                     'spatial_attention_module[0][\n",
      "                                                                    0]']                          \n",
      "                                                                                                  \n",
      " concatenate_1 (Concatenate  (None, 112, 112, 128)        0         ['multiply[0][0]',            \n",
      " )                                                                   'batch_normalization_5[0][0]'\n",
      "                                                                    ]                             \n",
      "                                                                                                  \n",
      " conv2d_9 (Conv2D)           (None, 112, 112, 64)         73792     ['concatenate_1[0][0]']       \n",
      "                                                                                                  \n",
      " conv2d_3 (Conv2D)           (None, 112, 112, 64)         36928     ['batch_normalization_3[0][0]'\n",
      "                                                                    ]                             \n",
      "                                                                                                  \n",
      " batch_normalization_6 (Bat  (None, 112, 112, 64)         256       ['conv2d_9[0][0]']            \n",
      " chNormalization)                                                                                 \n",
      "                                                                                                  \n",
      " batch_normalization_4 (Bat  (None, 112, 112, 64)         256       ['conv2d_3[0][0]']            \n",
      " chNormalization)                                                                                 \n",
      "                                                                                                  \n",
      " add_8 (Add)                 (None, 112, 112, 64)         0         ['batch_normalization_6[0][0]'\n",
      "                                                                    , 'batch_normalization_4[0][0]\n",
      "                                                                    ']                            \n",
      "                                                                                                  \n",
      " separable_conv2d (Separabl  (None, 112, 112, 64)         4224      ['add_8[0][0]']               \n",
      " eConv2D)                                                                                         \n",
      "                                                                                                  \n",
      " max_pooling2d_1 (MaxPoolin  (None, 56, 56, 64)           0         ['separable_conv2d[0][0]']    \n",
      " g2D)                                                                                             \n",
      "                                                                                                  \n",
      " batch_normalization_7 (Bat  (None, 56, 56, 64)           256       ['max_pooling2d_1[0][0]']     \n",
      " chNormalization)                                                                                 \n",
      "                                                                                                  \n",
      " conv2d_11 (Conv2D)          (None, 56, 56, 64)           36928     ['batch_normalization_7[0][0]'\n",
      "                                                                    ]                             \n",
      "                                                                                                  \n",
      " batch_normalization_9 (Bat  (None, 56, 56, 64)           256       ['conv2d_11[0][0]']           \n",
      " chNormalization)                                                                                 \n",
      "                                                                                                  \n",
      " channel_attention_module_1  (None, 1, 1, 64)             1096      ['batch_normalization_9[0][0]'\n",
      "  (ChannelAttentionModule)                                          ]                             \n",
      "                                                                                                  \n",
      " spatial_attention_module_1  (None, 56, 56, 1)            24336     ['batch_normalization_9[0][0]'\n",
      "  (SpatialAttentionModule)                                          ]                             \n",
      "                                                                                                  \n",
      " separable_conv2d_1 (Separa  (None, 56, 56, 64)           4736      ['batch_normalization_7[0][0]'\n",
      " bleConv2D)                                                         ]                             \n",
      "                                                                                                  \n",
      " multiply_1 (Multiply)       (None, 56, 56, 64)           0         ['channel_attention_module_1[0\n",
      "                                                                    ][0]',                        \n",
      "                                                                     'spatial_attention_module_1[0\n",
      "                                                                    ][0]']                        \n",
      "                                                                                                  \n",
      " batch_normalization_11 (Ba  (None, 56, 56, 64)           256       ['separable_conv2d_1[0][0]']  \n",
      " tchNormalization)                                                                                \n",
      "                                                                                                  \n",
      " concatenate_2 (Concatenate  (None, 56, 56, 128)          0         ['multiply_1[0][0]',          \n",
      " )                                                                   'batch_normalization_9[0][0]'\n",
      "                                                                    ]                             \n",
      "                                                                                                  \n",
      " activation_3 (Activation)   (None, 56, 56, 64)           0         ['batch_normalization_11[0][0]\n",
      "                                                                    ']                            \n",
      "                                                                                                  \n",
      " conv2d_16 (Conv2D)          (None, 56, 56, 64)           73792     ['concatenate_2[0][0]']       \n",
      "                                                                                                  \n",
      " conv2d_10 (Conv2D)          (None, 56, 56, 64)           36928     ['batch_normalization_7[0][0]'\n",
      "                                                                    ]                             \n",
      "                                                                                                  \n",
      " separable_conv2d_2 (Separa  (None, 56, 56, 64)           4736      ['activation_3[0][0]']        \n",
      " bleConv2D)                                                                                       \n",
      "                                                                                                  \n",
      " batch_normalization_10 (Ba  (None, 56, 56, 64)           256       ['conv2d_16[0][0]']           \n",
      " tchNormalization)                                                                                \n",
      "                                                                                                  \n",
      " batch_normalization_8 (Bat  (None, 56, 56, 64)           256       ['conv2d_10[0][0]']           \n",
      " chNormalization)                                                                                 \n",
      "                                                                                                  \n",
      " batch_normalization_12 (Ba  (None, 56, 56, 64)           256       ['separable_conv2d_2[0][0]']  \n",
      " tchNormalization)                                                                                \n",
      "                                                                                                  \n",
      " add_9 (Add)                 (None, 56, 56, 64)           0         ['batch_normalization_10[0][0]\n",
      "                                                                    ',                            \n",
      "                                                                     'batch_normalization_8[0][0]'\n",
      "                                                                    ]                             \n",
      "                                                                                                  \n",
      " add_10 (Add)                (None, 56, 56, 64)           0         ['batch_normalization_12[0][0]\n",
      "                                                                    ',                            \n",
      "                                                                     'add_9[0][0]']               \n",
      "                                                                                                  \n",
      " activation_4 (Activation)   (None, 56, 56, 64)           0         ['add_10[0][0]']              \n",
      "                                                                                                  \n",
      " separable_conv2d_3 (Separa  (None, 56, 56, 128)          8384      ['activation_4[0][0]']        \n",
      " bleConv2D)                                                                                       \n",
      "                                                                                                  \n",
      " max_pooling2d_2 (MaxPoolin  (None, 28, 28, 128)          0         ['separable_conv2d_3[0][0]']  \n",
      " g2D)                                                                                             \n",
      "                                                                                                  \n",
      " batch_normalization_13 (Ba  (None, 28, 28, 128)          512       ['max_pooling2d_2[0][0]']     \n",
      " tchNormalization)                                                                                \n",
      "                                                                                                  \n",
      " conv2d_18 (Conv2D)          (None, 28, 28, 128)          147584    ['batch_normalization_13[0][0]\n",
      "                                                                    ']                            \n",
      "                                                                                                  \n",
      " batch_normalization_15 (Ba  (None, 28, 28, 128)          512       ['conv2d_18[0][0]']           \n",
      " tchNormalization)                                                                                \n",
      "                                                                                                  \n",
      " channel_attention_module_2  (None, 1, 1, 128)            4240      ['batch_normalization_15[0][0]\n",
      "  (ChannelAttentionModule)                                          ']                            \n",
      "                                                                                                  \n",
      " spatial_attention_module_2  (None, 28, 28, 1)            24336     ['batch_normalization_15[0][0]\n",
      "  (SpatialAttentionModule)                                          ']                            \n",
      "                                                                                                  \n",
      " separable_conv2d_4 (Separa  (None, 28, 28, 128)          17664     ['batch_normalization_13[0][0]\n",
      " bleConv2D)                                                         ']                            \n",
      "                                                                                                  \n",
      " multiply_2 (Multiply)       (None, 28, 28, 128)          0         ['channel_attention_module_2[0\n",
      "                                                                    ][0]',                        \n",
      "                                                                     'spatial_attention_module_2[0\n",
      "                                                                    ][0]']                        \n",
      "                                                                                                  \n",
      " batch_normalization_17 (Ba  (None, 28, 28, 128)          512       ['separable_conv2d_4[0][0]']  \n",
      " tchNormalization)                                                                                \n",
      "                                                                                                  \n",
      " concatenate_3 (Concatenate  (None, 28, 28, 256)          0         ['multiply_2[0][0]',          \n",
      " )                                                                   'batch_normalization_15[0][0]\n",
      "                                                                    ']                            \n",
      "                                                                                                  \n",
      " activation_5 (Activation)   (None, 28, 28, 128)          0         ['batch_normalization_17[0][0]\n",
      "                                                                    ']                            \n",
      "                                                                                                  \n",
      " conv2d_23 (Conv2D)          (None, 28, 28, 128)          295040    ['concatenate_3[0][0]']       \n",
      "                                                                                                  \n",
      " conv2d_17 (Conv2D)          (None, 28, 28, 128)          147584    ['batch_normalization_13[0][0]\n",
      "                                                                    ']                            \n",
      "                                                                                                  \n",
      " separable_conv2d_5 (Separa  (None, 28, 28, 128)          17664     ['activation_5[0][0]']        \n",
      " bleConv2D)                                                                                       \n",
      "                                                                                                  \n",
      " batch_normalization_16 (Ba  (None, 28, 28, 128)          512       ['conv2d_23[0][0]']           \n",
      " tchNormalization)                                                                                \n",
      "                                                                                                  \n",
      " batch_normalization_14 (Ba  (None, 28, 28, 128)          512       ['conv2d_17[0][0]']           \n",
      " tchNormalization)                                                                                \n",
      "                                                                                                  \n",
      " batch_normalization_18 (Ba  (None, 28, 28, 128)          512       ['separable_conv2d_5[0][0]']  \n",
      " tchNormalization)                                                                                \n",
      "                                                                                                  \n",
      " add_11 (Add)                (None, 28, 28, 128)          0         ['batch_normalization_16[0][0]\n",
      "                                                                    ',                            \n",
      "                                                                     'batch_normalization_14[0][0]\n",
      "                                                                    ']                            \n",
      "                                                                                                  \n",
      " add_12 (Add)                (None, 28, 28, 128)          0         ['batch_normalization_18[0][0]\n",
      "                                                                    ',                            \n",
      "                                                                     'add_11[0][0]']              \n",
      "                                                                                                  \n",
      " activation_6 (Activation)   (None, 28, 28, 128)          0         ['add_12[0][0]']              \n",
      "                                                                                                  \n",
      " separable_conv2d_6 (Separa  (None, 28, 28, 256)          33152     ['activation_6[0][0]']        \n",
      " bleConv2D)                                                                                       \n",
      "                                                                                                  \n",
      " max_pooling2d_3 (MaxPoolin  (None, 14, 14, 256)          0         ['separable_conv2d_6[0][0]']  \n",
      " g2D)                                                                                             \n",
      "                                                                                                  \n",
      " batch_normalization_19 (Ba  (None, 14, 14, 256)          1024      ['max_pooling2d_3[0][0]']     \n",
      " tchNormalization)                                                                                \n",
      "                                                                                                  \n",
      " conv2d_25 (Conv2D)          (None, 14, 14, 256)          590080    ['batch_normalization_19[0][0]\n",
      "                                                                    ']                            \n",
      "                                                                                                  \n",
      " batch_normalization_21 (Ba  (None, 14, 14, 256)          1024      ['conv2d_25[0][0]']           \n",
      " tchNormalization)                                                                                \n",
      "                                                                                                  \n",
      " channel_attention_module_3  (None, 1, 1, 256)            16672     ['batch_normalization_21[0][0]\n",
      "  (ChannelAttentionModule)                                          ']                            \n",
      "                                                                                                  \n",
      " spatial_attention_module_3  (None, 14, 14, 1)            24336     ['batch_normalization_21[0][0]\n",
      "  (SpatialAttentionModule)                                          ']                            \n",
      "                                                                                                  \n",
      " separable_conv2d_7 (Separa  (None, 14, 14, 256)          68096     ['batch_normalization_19[0][0]\n",
      " bleConv2D)                                                         ']                            \n",
      "                                                                                                  \n",
      " multiply_3 (Multiply)       (None, 14, 14, 256)          0         ['channel_attention_module_3[0\n",
      "                                                                    ][0]',                        \n",
      "                                                                     'spatial_attention_module_3[0\n",
      "                                                                    ][0]']                        \n",
      "                                                                                                  \n",
      " batch_normalization_23 (Ba  (None, 14, 14, 256)          1024      ['separable_conv2d_7[0][0]']  \n",
      " tchNormalization)                                                                                \n",
      "                                                                                                  \n",
      " concatenate_4 (Concatenate  (None, 14, 14, 512)          0         ['multiply_3[0][0]',          \n",
      " )                                                                   'batch_normalization_21[0][0]\n",
      "                                                                    ']                            \n",
      "                                                                                                  \n",
      " activation_7 (Activation)   (None, 14, 14, 256)          0         ['batch_normalization_23[0][0]\n",
      "                                                                    ']                            \n",
      "                                                                                                  \n",
      " conv2d_30 (Conv2D)          (None, 14, 14, 256)          1179904   ['concatenate_4[0][0]']       \n",
      "                                                                                                  \n",
      " conv2d_24 (Conv2D)          (None, 14, 14, 256)          590080    ['batch_normalization_19[0][0]\n",
      "                                                                    ']                            \n",
      "                                                                                                  \n",
      " separable_conv2d_8 (Separa  (None, 14, 14, 256)          68096     ['activation_7[0][0]']        \n",
      " bleConv2D)                                                                                       \n",
      "                                                                                                  \n",
      " batch_normalization_22 (Ba  (None, 14, 14, 256)          1024      ['conv2d_30[0][0]']           \n",
      " tchNormalization)                                                                                \n",
      "                                                                                                  \n",
      " batch_normalization_20 (Ba  (None, 14, 14, 256)          1024      ['conv2d_24[0][0]']           \n",
      " tchNormalization)                                                                                \n",
      "                                                                                                  \n",
      " batch_normalization_24 (Ba  (None, 14, 14, 256)          1024      ['separable_conv2d_8[0][0]']  \n",
      " tchNormalization)                                                                                \n",
      "                                                                                                  \n",
      " add_13 (Add)                (None, 14, 14, 256)          0         ['batch_normalization_22[0][0]\n",
      "                                                                    ',                            \n",
      "                                                                     'batch_normalization_20[0][0]\n",
      "                                                                    ']                            \n",
      "                                                                                                  \n",
      " add_14 (Add)                (None, 14, 14, 256)          0         ['batch_normalization_24[0][0]\n",
      "                                                                    ',                            \n",
      "                                                                     'add_13[0][0]']              \n",
      "                                                                                                  \n",
      " activation_8 (Activation)   (None, 14, 14, 256)          0         ['add_14[0][0]']              \n",
      "                                                                                                  \n",
      " separable_conv2d_9 (Separa  (None, 14, 14, 256)          66048     ['activation_8[0][0]']        \n",
      " bleConv2D)                                                                                       \n",
      "                                                                                                  \n",
      " max_pooling2d_4 (MaxPoolin  (None, 7, 7, 256)            0         ['separable_conv2d_9[0][0]']  \n",
      " g2D)                                                                                             \n",
      "                                                                                                  \n",
      " batch_normalization_25 (Ba  (None, 7, 7, 256)            1024      ['max_pooling2d_4[0][0]']     \n",
      " tchNormalization)                                                                                \n",
      "                                                                                                  \n",
      "==================================================================================================\n",
      "Total params: 4272460 (16.30 MB)\n",
      "Trainable params: 4265798 (16.27 MB)\n",
      "Non-trainable params: 6662 (26.02 KB)\n",
      "__________________________________________________________________________________________________\n"
     ]
    }
   ],
   "source": [
    "model.summary()"
   ]
  },
  {
   "cell_type": "markdown",
   "metadata": {},
   "source": [
    "# My Model"
   ]
  },
  {
   "cell_type": "code",
   "execution_count": 24,
   "metadata": {
    "execution": {
     "iopub.execute_input": "2024-04-15T08:15:44.810015Z",
     "iopub.status.busy": "2024-04-15T08:15:44.809101Z",
     "iopub.status.idle": "2024-04-15T08:15:44.820428Z",
     "shell.execute_reply": "2024-04-15T08:15:44.819584Z",
     "shell.execute_reply.started": "2024-04-15T08:15:44.809981Z"
    }
   },
   "outputs": [],
   "source": [
    "data_augmentation = keras.Sequential(\n",
    "    [\n",
    "        Normalization(),\n",
    "        #RandomFlip(\"horizontal\"),\n",
    "        #RandomRotation(factor=0.02),\n",
    "        #RandomZoom(\n",
    "        #    height_factor=0.2, width_factor=0.2\n",
    "        #),\n",
    "        #RandomContrast(0.2),\n",
    "        #RandomBrightness(0.2)\n",
    "    ],\n",
    "    name=\"data_augmentation\",\n",
    ")"
   ]
  },
  {
   "cell_type": "code",
   "execution_count": 25,
   "metadata": {
    "execution": {
     "iopub.execute_input": "2024-04-15T08:15:48.465870Z",
     "iopub.status.busy": "2024-04-15T08:15:48.465517Z",
     "iopub.status.idle": "2024-04-15T08:15:49.556648Z",
     "shell.execute_reply": "2024-04-15T08:15:49.555846Z",
     "shell.execute_reply.started": "2024-04-15T08:15:48.465841Z"
    }
   },
   "outputs": [],
   "source": [
    "my_model = tf.keras.Sequential([\n",
    "    Input(shape=(224,224,3)),\n",
    "    data_augmentation,\n",
    "    model,\n",
    "    #GlobalAveragePooling2D(),\n",
    "    Flatten(),\n",
    "    Dense(512, activation='relu'),\n",
    "    BatchNormalization(),\n",
    "    Dense(256, activation='relu'),\n",
    "    BatchNormalization(),\n",
    "    Dense(128, activation='relu'),\n",
    "    BatchNormalization(),\n",
    "    Dense(64, activation='relu'),\n",
    "    #Dropout(0.50),\n",
    "    BatchNormalization(),\n",
    "    Dense(32, activation='relu'),\n",
    "    BatchNormalization(),\n",
    "    Dense(4, activation='softmax')\n",
    "])"
   ]
  },
  {
   "cell_type": "code",
   "execution_count": 26,
   "metadata": {
    "execution": {
     "iopub.execute_input": "2024-04-15T08:15:50.194263Z",
     "iopub.status.busy": "2024-04-15T08:15:50.193861Z",
     "iopub.status.idle": "2024-04-15T08:15:50.262898Z",
     "shell.execute_reply": "2024-04-15T08:15:50.262049Z",
     "shell.execute_reply.started": "2024-04-15T08:15:50.194233Z"
    }
   },
   "outputs": [
    {
     "name": "stdout",
     "output_type": "stream",
     "text": [
      "Model: \"sequential\"\n",
      "_________________________________________________________________\n",
      " Layer (type)                Output Shape              Param #   \n",
      "=================================================================\n",
      " data_augmentation (Sequent  (None, 224, 224, 3)       7         \n",
      " ial)                                                            \n",
      "                                                                 \n",
      " model (Functional)          (None, 7, 7, 256)         4272460   \n",
      "                                                                 \n",
      " flatten (Flatten)           (None, 12544)             0         \n",
      "                                                                 \n",
      " dense_8 (Dense)             (None, 512)               6423040   \n",
      "                                                                 \n",
      " batch_normalization_26 (Ba  (None, 512)               2048      \n",
      " tchNormalization)                                               \n",
      "                                                                 \n",
      " dense_9 (Dense)             (None, 256)               131328    \n",
      "                                                                 \n",
      " batch_normalization_27 (Ba  (None, 256)               1024      \n",
      " tchNormalization)                                               \n",
      "                                                                 \n",
      " dense_10 (Dense)            (None, 128)               32896     \n",
      "                                                                 \n",
      " batch_normalization_28 (Ba  (None, 128)               512       \n",
      " tchNormalization)                                               \n",
      "                                                                 \n",
      " dense_11 (Dense)            (None, 64)                8256      \n",
      "                                                                 \n",
      " batch_normalization_29 (Ba  (None, 64)                256       \n",
      " tchNormalization)                                               \n",
      "                                                                 \n",
      " dense_12 (Dense)            (None, 32)                2080      \n",
      "                                                                 \n",
      " batch_normalization_30 (Ba  (None, 32)                128       \n",
      " tchNormalization)                                               \n",
      "                                                                 \n",
      " dense_13 (Dense)            (None, 4)                 132       \n",
      "                                                                 \n",
      "=================================================================\n",
      "Total params: 10874167 (41.48 MB)\n",
      "Trainable params: 10865514 (41.45 MB)\n",
      "Non-trainable params: 8653 (33.80 KB)\n",
      "_________________________________________________________________\n"
     ]
    }
   ],
   "source": [
    "my_model.summary()"
   ]
  },
  {
   "cell_type": "code",
   "execution_count": 27,
   "metadata": {
    "execution": {
     "iopub.execute_input": "2024-04-15T08:16:13.078780Z",
     "iopub.status.busy": "2024-04-15T08:16:13.078416Z",
     "iopub.status.idle": "2024-04-15T08:16:13.083716Z",
     "shell.execute_reply": "2024-04-15T08:16:13.082697Z",
     "shell.execute_reply.started": "2024-04-15T08:16:13.078752Z"
    }
   },
   "outputs": [],
   "source": [
    "cosine_decay_restarts = tf.keras.optimizers.schedules.CosineDecayRestarts(\n",
    "      initial_learning_rate=0.0001,\n",
    "      first_decay_steps=5000)"
   ]
  },
  {
   "cell_type": "code",
   "execution_count": 28,
   "metadata": {
    "execution": {
     "iopub.execute_input": "2024-04-15T08:16:14.954541Z",
     "iopub.status.busy": "2024-04-15T08:16:14.954137Z",
     "iopub.status.idle": "2024-04-15T08:16:14.960303Z",
     "shell.execute_reply": "2024-04-15T08:16:14.959033Z",
     "shell.execute_reply.started": "2024-04-15T08:16:14.954513Z"
    }
   },
   "outputs": [],
   "source": [
    "filepath = \"/kaggle/working/model.h5\"\n",
    "checkpoint = ModelCheckpoint(filepath, monitor=\"val_accuracy\",\n",
    "                            verbose=1, save_best_only=True, mode='max')\n",
    "callbacks = [checkpoint]"
   ]
  },
  {
   "cell_type": "code",
   "execution_count": 29,
   "metadata": {
    "execution": {
     "iopub.execute_input": "2024-04-15T08:16:22.156440Z",
     "iopub.status.busy": "2024-04-15T08:16:22.155628Z",
     "iopub.status.idle": "2024-04-15T08:16:22.160179Z",
     "shell.execute_reply": "2024-04-15T08:16:22.159203Z",
     "shell.execute_reply.started": "2024-04-15T08:16:22.156409Z"
    }
   },
   "outputs": [],
   "source": [
    "#pip install focal-loss"
   ]
  },
  {
   "cell_type": "code",
   "execution_count": 30,
   "metadata": {
    "execution": {
     "iopub.execute_input": "2024-04-15T08:16:23.346418Z",
     "iopub.status.busy": "2024-04-15T08:16:23.346057Z",
     "iopub.status.idle": "2024-04-15T08:16:23.351560Z",
     "shell.execute_reply": "2024-04-15T08:16:23.350480Z",
     "shell.execute_reply.started": "2024-04-15T08:16:23.346390Z"
    }
   },
   "outputs": [],
   "source": [
    "#from focal_loss import SparseCategoricalFocalLoss"
   ]
  },
  {
   "cell_type": "code",
   "execution_count": 31,
   "metadata": {
    "execution": {
     "iopub.execute_input": "2024-04-15T08:16:29.122426Z",
     "iopub.status.busy": "2024-04-15T08:16:29.121451Z",
     "iopub.status.idle": "2024-04-15T08:16:29.173420Z",
     "shell.execute_reply": "2024-04-15T08:16:29.172683Z",
     "shell.execute_reply.started": "2024-04-15T08:16:29.122387Z"
    }
   },
   "outputs": [],
   "source": [
    "# Compile the model\n",
    "my_model.compile(optimizer=tf.keras.optimizers.Adam(learning_rate=cosine_decay_restarts),\n",
    "                 loss=tf.keras.losses.SparseCategoricalCrossentropy(),\n",
    "                 metrics=['accuracy'])"
   ]
  },
  {
   "cell_type": "code",
   "execution_count": 32,
   "metadata": {
    "execution": {
     "iopub.execute_input": "2024-04-15T08:16:30.938596Z",
     "iopub.status.busy": "2024-04-15T08:16:30.937732Z",
     "iopub.status.idle": "2024-04-15T08:16:30.949228Z",
     "shell.execute_reply": "2024-04-15T08:16:30.948279Z",
     "shell.execute_reply.started": "2024-04-15T08:16:30.938559Z"
    }
   },
   "outputs": [
    {
     "data": {
      "text/plain": [
       "{0: 0.918057210965435, 1: 0.9652255639097744, 2: 0.970088161209068, 3: 1.185}"
      ]
     },
     "execution_count": 32,
     "metadata": {},
     "output_type": "execute_result"
    }
   ],
   "source": [
    "class_weights = compute_class_weight(class_weight='balanced',classes=np.unique(y_train), y=y_train)\n",
    "class_weights = dict(enumerate(class_weights))\n",
    "class_weights"
   ]
  },
  {
   "cell_type": "code",
   "execution_count": 33,
   "metadata": {
    "execution": {
     "iopub.execute_input": "2024-04-15T08:16:48.516331Z",
     "iopub.status.busy": "2024-04-15T08:16:48.515945Z",
     "iopub.status.idle": "2024-04-15T10:19:16.531122Z",
     "shell.execute_reply": "2024-04-15T10:19:16.530351Z",
     "shell.execute_reply.started": "2024-04-15T08:16:48.516303Z"
    }
   },
   "outputs": [
    {
     "name": "stdout",
     "output_type": "stream",
     "text": [
      "Epoch 1/100\n",
      "289/289 [==============================] - ETA: 0s - loss: 1.3652 - accuracy: 0.4218\n",
      "Epoch 1: val_accuracy improved from -inf to 0.04262, saving model to /kaggle/working/model.h5\n"
     ]
    },
    {
     "name": "stderr",
     "output_type": "stream",
     "text": [
      "/opt/conda/lib/python3.10/site-packages/keras/src/engine/training.py:3000: UserWarning: You are saving your model as an HDF5 file via `model.save()`. This file format is considered legacy. We recommend using instead the native Keras format, e.g. `model.save('my_model.keras')`.\n",
      "  saving_api.save_model(\n"
     ]
    },
    {
     "name": "stdout",
     "output_type": "stream",
     "text": [
      "289/289 [==============================] - 126s 275ms/step - loss: 1.3652 - accuracy: 0.4218 - val_loss: 2.5162 - val_accuracy: 0.0426\n",
      "Epoch 2/100\n",
      "289/289 [==============================] - ETA: 0s - loss: 1.0154 - accuracy: 0.5607\n",
      "Epoch 2: val_accuracy improved from 0.04262 to 0.04322, saving model to /kaggle/working/model.h5\n",
      "289/289 [==============================] - 74s 255ms/step - loss: 1.0154 - accuracy: 0.5607 - val_loss: 4.9974 - val_accuracy: 0.0432\n",
      "Epoch 3/100\n",
      "289/289 [==============================] - ETA: 0s - loss: 0.8318 - accuracy: 0.6462\n",
      "Epoch 3: val_accuracy improved from 0.04322 to 0.42617, saving model to /kaggle/working/model.h5\n",
      "289/289 [==============================] - 74s 255ms/step - loss: 0.8318 - accuracy: 0.6462 - val_loss: 1.2649 - val_accuracy: 0.4262\n",
      "Epoch 4/100\n",
      "289/289 [==============================] - ETA: 0s - loss: 0.6545 - accuracy: 0.7407\n",
      "Epoch 4: val_accuracy improved from 0.42617 to 0.64886, saving model to /kaggle/working/model.h5\n",
      "289/289 [==============================] - 74s 255ms/step - loss: 0.6545 - accuracy: 0.7407 - val_loss: 0.8852 - val_accuracy: 0.6489\n",
      "Epoch 5/100\n",
      "289/289 [==============================] - ETA: 0s - loss: 0.4935 - accuracy: 0.8190\n",
      "Epoch 5: val_accuracy improved from 0.64886 to 0.69028, saving model to /kaggle/working/model.h5\n",
      "289/289 [==============================] - 74s 255ms/step - loss: 0.4935 - accuracy: 0.8190 - val_loss: 0.8148 - val_accuracy: 0.6903\n",
      "Epoch 6/100\n",
      "289/289 [==============================] - ETA: 0s - loss: 0.3693 - accuracy: 0.8727\n",
      "Epoch 6: val_accuracy improved from 0.69028 to 0.73409, saving model to /kaggle/working/model.h5\n",
      "289/289 [==============================] - 74s 255ms/step - loss: 0.3693 - accuracy: 0.8727 - val_loss: 0.7621 - val_accuracy: 0.7341\n",
      "Epoch 7/100\n",
      "289/289 [==============================] - ETA: 0s - loss: 0.2589 - accuracy: 0.9219\n",
      "Epoch 7: val_accuracy did not improve from 0.73409\n",
      "289/289 [==============================] - 73s 252ms/step - loss: 0.2589 - accuracy: 0.9219 - val_loss: 0.6901 - val_accuracy: 0.7329\n",
      "Epoch 8/100\n",
      "289/289 [==============================] - ETA: 0s - loss: 0.1779 - accuracy: 0.9538\n",
      "Epoch 8: val_accuracy improved from 0.73409 to 0.78631, saving model to /kaggle/working/model.h5\n",
      "289/289 [==============================] - 74s 255ms/step - loss: 0.1779 - accuracy: 0.9538 - val_loss: 0.6123 - val_accuracy: 0.7863\n",
      "Epoch 9/100\n",
      "289/289 [==============================] - ETA: 0s - loss: 0.1267 - accuracy: 0.9713\n",
      "Epoch 9: val_accuracy improved from 0.78631 to 0.79712, saving model to /kaggle/working/model.h5\n",
      "289/289 [==============================] - 74s 255ms/step - loss: 0.1267 - accuracy: 0.9713 - val_loss: 0.5743 - val_accuracy: 0.7971\n",
      "Epoch 10/100\n",
      "289/289 [==============================] - ETA: 0s - loss: 0.0841 - accuracy: 0.9867\n",
      "Epoch 10: val_accuracy improved from 0.79712 to 0.81753, saving model to /kaggle/working/model.h5\n",
      "289/289 [==============================] - 74s 254ms/step - loss: 0.0841 - accuracy: 0.9867 - val_loss: 0.5351 - val_accuracy: 0.8175\n",
      "Epoch 11/100\n",
      "289/289 [==============================] - ETA: 0s - loss: 0.0696 - accuracy: 0.9892\n",
      "Epoch 11: val_accuracy did not improve from 0.81753\n",
      "289/289 [==============================] - 73s 251ms/step - loss: 0.0696 - accuracy: 0.9892 - val_loss: 0.5275 - val_accuracy: 0.8097\n",
      "Epoch 12/100\n",
      "289/289 [==============================] - ETA: 0s - loss: 0.0580 - accuracy: 0.9930\n",
      "Epoch 12: val_accuracy improved from 0.81753 to 0.82413, saving model to /kaggle/working/model.h5\n",
      "289/289 [==============================] - 74s 254ms/step - loss: 0.0580 - accuracy: 0.9930 - val_loss: 0.5092 - val_accuracy: 0.8241\n",
      "Epoch 13/100\n",
      "289/289 [==============================] - ETA: 0s - loss: 0.0462 - accuracy: 0.9938\n",
      "Epoch 13: val_accuracy improved from 0.82413 to 0.83974, saving model to /kaggle/working/model.h5\n",
      "289/289 [==============================] - 74s 254ms/step - loss: 0.0462 - accuracy: 0.9938 - val_loss: 0.5036 - val_accuracy: 0.8397\n",
      "Epoch 14/100\n",
      "289/289 [==============================] - ETA: 0s - loss: 0.0383 - accuracy: 0.9976\n",
      "Epoch 14: val_accuracy did not improve from 0.83974\n",
      "289/289 [==============================] - 73s 252ms/step - loss: 0.0383 - accuracy: 0.9976 - val_loss: 0.5016 - val_accuracy: 0.8343\n",
      "Epoch 15/100\n",
      "289/289 [==============================] - ETA: 0s - loss: 0.0320 - accuracy: 0.9986\n",
      "Epoch 15: val_accuracy improved from 0.83974 to 0.84154, saving model to /kaggle/working/model.h5\n",
      "289/289 [==============================] - 74s 256ms/step - loss: 0.0320 - accuracy: 0.9986 - val_loss: 0.4916 - val_accuracy: 0.8415\n",
      "Epoch 16/100\n",
      "289/289 [==============================] - ETA: 0s - loss: 0.0333 - accuracy: 0.9982\n",
      "Epoch 16: val_accuracy improved from 0.84154 to 0.84214, saving model to /kaggle/working/model.h5\n",
      "289/289 [==============================] - 74s 255ms/step - loss: 0.0333 - accuracy: 0.9982 - val_loss: 0.4909 - val_accuracy: 0.8421\n",
      "Epoch 17/100\n",
      "289/289 [==============================] - ETA: 0s - loss: 0.0316 - accuracy: 0.9986\n",
      "Epoch 17: val_accuracy did not improve from 0.84214\n",
      "289/289 [==============================] - 73s 251ms/step - loss: 0.0316 - accuracy: 0.9986 - val_loss: 0.4889 - val_accuracy: 0.8415\n",
      "Epoch 18/100\n",
      "289/289 [==============================] - ETA: 0s - loss: 0.5299 - accuracy: 0.7964\n",
      "Epoch 18: val_accuracy did not improve from 0.84214\n",
      "289/289 [==============================] - 73s 252ms/step - loss: 0.5299 - accuracy: 0.7964 - val_loss: 1.1178 - val_accuracy: 0.6375\n",
      "Epoch 19/100\n",
      "289/289 [==============================] - ETA: 0s - loss: 0.5906 - accuracy: 0.7628\n",
      "Epoch 19: val_accuracy did not improve from 0.84214\n",
      "289/289 [==============================] - 73s 251ms/step - loss: 0.5906 - accuracy: 0.7628 - val_loss: 0.8373 - val_accuracy: 0.6723\n",
      "Epoch 20/100\n",
      "289/289 [==============================] - ETA: 0s - loss: 0.3571 - accuracy: 0.8626\n",
      "Epoch 20: val_accuracy did not improve from 0.84214\n",
      "289/289 [==============================] - 73s 251ms/step - loss: 0.3571 - accuracy: 0.8626 - val_loss: 0.7463 - val_accuracy: 0.7095\n",
      "Epoch 21/100\n",
      "289/289 [==============================] - ETA: 0s - loss: 0.2510 - accuracy: 0.9139\n",
      "Epoch 21: val_accuracy did not improve from 0.84214\n",
      "289/289 [==============================] - 73s 251ms/step - loss: 0.2510 - accuracy: 0.9139 - val_loss: 0.9375 - val_accuracy: 0.7239\n",
      "Epoch 22/100\n",
      "289/289 [==============================] - ETA: 0s - loss: 0.1792 - accuracy: 0.9431\n",
      "Epoch 22: val_accuracy did not improve from 0.84214\n",
      "289/289 [==============================] - 73s 251ms/step - loss: 0.1792 - accuracy: 0.9431 - val_loss: 0.7586 - val_accuracy: 0.7191\n",
      "Epoch 23/100\n",
      "289/289 [==============================] - ETA: 0s - loss: 0.1344 - accuracy: 0.9558\n",
      "Epoch 23: val_accuracy did not improve from 0.84214\n",
      "289/289 [==============================] - 73s 251ms/step - loss: 0.1344 - accuracy: 0.9558 - val_loss: 0.9506 - val_accuracy: 0.6759\n",
      "Epoch 24/100\n",
      "289/289 [==============================] - ETA: 0s - loss: 0.1058 - accuracy: 0.9679\n",
      "Epoch 24: val_accuracy did not improve from 0.84214\n",
      "289/289 [==============================] - 73s 251ms/step - loss: 0.1058 - accuracy: 0.9679 - val_loss: 0.5086 - val_accuracy: 0.8235\n",
      "Epoch 25/100\n",
      "289/289 [==============================] - ETA: 0s - loss: 0.1014 - accuracy: 0.9674\n",
      "Epoch 25: val_accuracy did not improve from 0.84214\n",
      "289/289 [==============================] - 73s 251ms/step - loss: 0.1014 - accuracy: 0.9674 - val_loss: 0.8214 - val_accuracy: 0.7353\n",
      "Epoch 26/100\n",
      "289/289 [==============================] - ETA: 0s - loss: 0.0956 - accuracy: 0.9705\n",
      "Epoch 26: val_accuracy did not improve from 0.84214\n",
      "289/289 [==============================] - 73s 252ms/step - loss: 0.0956 - accuracy: 0.9705 - val_loss: 0.5489 - val_accuracy: 0.8091\n",
      "Epoch 27/100\n",
      "289/289 [==============================] - ETA: 0s - loss: 0.0841 - accuracy: 0.9732\n",
      "Epoch 27: val_accuracy did not improve from 0.84214\n",
      "289/289 [==============================] - 73s 251ms/step - loss: 0.0841 - accuracy: 0.9732 - val_loss: 0.5200 - val_accuracy: 0.8313\n",
      "Epoch 28/100\n",
      "289/289 [==============================] - ETA: 0s - loss: 0.0753 - accuracy: 0.9773\n",
      "Epoch 28: val_accuracy did not improve from 0.84214\n",
      "289/289 [==============================] - 73s 251ms/step - loss: 0.0753 - accuracy: 0.9773 - val_loss: 0.5402 - val_accuracy: 0.8157\n",
      "Epoch 29/100\n",
      "289/289 [==============================] - ETA: 0s - loss: 0.0661 - accuracy: 0.9792\n",
      "Epoch 29: val_accuracy did not improve from 0.84214\n",
      "289/289 [==============================] - 73s 253ms/step - loss: 0.0661 - accuracy: 0.9792 - val_loss: 0.7434 - val_accuracy: 0.7425\n",
      "Epoch 30/100\n",
      "289/289 [==============================] - ETA: 0s - loss: 0.0499 - accuracy: 0.9845\n",
      "Epoch 30: val_accuracy improved from 0.84214 to 0.86255, saving model to /kaggle/working/model.h5\n",
      "289/289 [==============================] - 74s 256ms/step - loss: 0.0499 - accuracy: 0.9845 - val_loss: 0.4387 - val_accuracy: 0.8625\n",
      "Epoch 31/100\n",
      "289/289 [==============================] - ETA: 0s - loss: 0.0498 - accuracy: 0.9846\n",
      "Epoch 31: val_accuracy did not improve from 0.86255\n",
      "289/289 [==============================] - 73s 251ms/step - loss: 0.0498 - accuracy: 0.9846 - val_loss: 0.6539 - val_accuracy: 0.7899\n",
      "Epoch 32/100\n",
      "289/289 [==============================] - ETA: 0s - loss: 0.0490 - accuracy: 0.9858\n",
      "Epoch 32: val_accuracy did not improve from 0.86255\n",
      "289/289 [==============================] - 73s 252ms/step - loss: 0.0490 - accuracy: 0.9858 - val_loss: 0.4348 - val_accuracy: 0.8571\n",
      "Epoch 33/100\n",
      "289/289 [==============================] - ETA: 0s - loss: 0.0391 - accuracy: 0.9896\n",
      "Epoch 33: val_accuracy did not improve from 0.86255\n",
      "289/289 [==============================] - 73s 251ms/step - loss: 0.0391 - accuracy: 0.9896 - val_loss: 0.6674 - val_accuracy: 0.7809\n",
      "Epoch 34/100\n",
      "289/289 [==============================] - ETA: 0s - loss: 0.0305 - accuracy: 0.9910\n",
      "Epoch 34: val_accuracy improved from 0.86255 to 0.86315, saving model to /kaggle/working/model.h5\n",
      "289/289 [==============================] - 73s 254ms/step - loss: 0.0305 - accuracy: 0.9910 - val_loss: 0.4483 - val_accuracy: 0.8631\n",
      "Epoch 35/100\n",
      "289/289 [==============================] - ETA: 0s - loss: 0.0301 - accuracy: 0.9925\n",
      "Epoch 35: val_accuracy improved from 0.86315 to 0.86675, saving model to /kaggle/working/model.h5\n",
      "289/289 [==============================] - 74s 255ms/step - loss: 0.0301 - accuracy: 0.9925 - val_loss: 0.4306 - val_accuracy: 0.8667\n",
      "Epoch 36/100\n",
      "289/289 [==============================] - ETA: 0s - loss: 0.0275 - accuracy: 0.9919\n",
      "Epoch 36: val_accuracy improved from 0.86675 to 0.88115, saving model to /kaggle/working/model.h5\n",
      "289/289 [==============================] - 74s 255ms/step - loss: 0.0275 - accuracy: 0.9919 - val_loss: 0.4264 - val_accuracy: 0.8812\n",
      "Epoch 37/100\n",
      "289/289 [==============================] - ETA: 0s - loss: 0.0180 - accuracy: 0.9968\n",
      "Epoch 37: val_accuracy improved from 0.88115 to 0.89496, saving model to /kaggle/working/model.h5\n",
      "289/289 [==============================] - 74s 254ms/step - loss: 0.0180 - accuracy: 0.9968 - val_loss: 0.3435 - val_accuracy: 0.8950\n",
      "Epoch 38/100\n",
      "289/289 [==============================] - ETA: 0s - loss: 0.0198 - accuracy: 0.9955\n",
      "Epoch 38: val_accuracy did not improve from 0.89496\n",
      "289/289 [==============================] - 73s 251ms/step - loss: 0.0198 - accuracy: 0.9955 - val_loss: 0.3629 - val_accuracy: 0.8884\n",
      "Epoch 39/100\n",
      "289/289 [==============================] - ETA: 0s - loss: 0.0140 - accuracy: 0.9966\n",
      "Epoch 39: val_accuracy did not improve from 0.89496\n",
      "289/289 [==============================] - 73s 251ms/step - loss: 0.0140 - accuracy: 0.9966 - val_loss: 0.3279 - val_accuracy: 0.8920\n",
      "Epoch 40/100\n",
      "289/289 [==============================] - ETA: 0s - loss: 0.0123 - accuracy: 0.9982\n",
      "Epoch 40: val_accuracy improved from 0.89496 to 0.90456, saving model to /kaggle/working/model.h5\n",
      "289/289 [==============================] - 74s 254ms/step - loss: 0.0123 - accuracy: 0.9982 - val_loss: 0.3237 - val_accuracy: 0.9046\n",
      "Epoch 41/100\n",
      "289/289 [==============================] - ETA: 0s - loss: 0.0165 - accuracy: 0.9961\n",
      "Epoch 41: val_accuracy improved from 0.90456 to 0.91116, saving model to /kaggle/working/model.h5\n",
      "289/289 [==============================] - 73s 254ms/step - loss: 0.0165 - accuracy: 0.9961 - val_loss: 0.3088 - val_accuracy: 0.9112\n",
      "Epoch 42/100\n",
      "289/289 [==============================] - ETA: 0s - loss: 0.0100 - accuracy: 0.9979\n",
      "Epoch 42: val_accuracy improved from 0.91116 to 0.91357, saving model to /kaggle/working/model.h5\n",
      "289/289 [==============================] - 73s 254ms/step - loss: 0.0100 - accuracy: 0.9979 - val_loss: 0.2980 - val_accuracy: 0.9136\n",
      "Epoch 43/100\n",
      "289/289 [==============================] - ETA: 0s - loss: 0.0128 - accuracy: 0.9973\n",
      "Epoch 43: val_accuracy did not improve from 0.91357\n",
      "289/289 [==============================] - 73s 251ms/step - loss: 0.0128 - accuracy: 0.9973 - val_loss: 0.3022 - val_accuracy: 0.9130\n",
      "Epoch 44/100\n",
      "289/289 [==============================] - ETA: 0s - loss: 0.0100 - accuracy: 0.9981\n",
      "Epoch 44: val_accuracy improved from 0.91357 to 0.91597, saving model to /kaggle/working/model.h5\n",
      "289/289 [==============================] - 73s 254ms/step - loss: 0.0100 - accuracy: 0.9981 - val_loss: 0.2799 - val_accuracy: 0.9160\n",
      "Epoch 45/100\n",
      "289/289 [==============================] - ETA: 0s - loss: 0.0065 - accuracy: 0.9990\n",
      "Epoch 45: val_accuracy improved from 0.91597 to 0.92137, saving model to /kaggle/working/model.h5\n",
      "289/289 [==============================] - 73s 254ms/step - loss: 0.0065 - accuracy: 0.9990 - val_loss: 0.2678 - val_accuracy: 0.9214\n",
      "Epoch 46/100\n",
      "289/289 [==============================] - ETA: 0s - loss: 0.0071 - accuracy: 0.9987\n",
      "Epoch 46: val_accuracy did not improve from 0.92137\n",
      "289/289 [==============================] - 73s 251ms/step - loss: 0.0071 - accuracy: 0.9987 - val_loss: 0.2671 - val_accuracy: 0.9184\n",
      "Epoch 47/100\n",
      "289/289 [==============================] - ETA: 0s - loss: 0.0051 - accuracy: 1.0000\n",
      "Epoch 47: val_accuracy did not improve from 0.92137\n",
      "289/289 [==============================] - 73s 251ms/step - loss: 0.0051 - accuracy: 1.0000 - val_loss: 0.2699 - val_accuracy: 0.9190\n",
      "Epoch 48/100\n",
      "289/289 [==============================] - ETA: 0s - loss: 0.0060 - accuracy: 0.9991\n",
      "Epoch 48: val_accuracy improved from 0.92137 to 0.92197, saving model to /kaggle/working/model.h5\n",
      "289/289 [==============================] - 73s 254ms/step - loss: 0.0060 - accuracy: 0.9991 - val_loss: 0.2640 - val_accuracy: 0.9220\n",
      "Epoch 49/100\n",
      "289/289 [==============================] - ETA: 0s - loss: 0.0056 - accuracy: 0.9995\n",
      "Epoch 49: val_accuracy improved from 0.92197 to 0.92317, saving model to /kaggle/working/model.h5\n",
      "289/289 [==============================] - 73s 254ms/step - loss: 0.0056 - accuracy: 0.9995 - val_loss: 0.2678 - val_accuracy: 0.9232\n",
      "Epoch 50/100\n",
      "289/289 [==============================] - ETA: 0s - loss: 0.0060 - accuracy: 0.9992\n",
      "Epoch 50: val_accuracy did not improve from 0.92317\n",
      "289/289 [==============================] - 73s 251ms/step - loss: 0.0060 - accuracy: 0.9992 - val_loss: 0.2681 - val_accuracy: 0.9226\n",
      "Epoch 51/100\n",
      "289/289 [==============================] - ETA: 0s - loss: 0.0057 - accuracy: 0.9994\n",
      "Epoch 51: val_accuracy did not improve from 0.92317\n",
      "289/289 [==============================] - 73s 251ms/step - loss: 0.0057 - accuracy: 0.9994 - val_loss: 0.2698 - val_accuracy: 0.9220\n",
      "Epoch 52/100\n",
      "289/289 [==============================] - ETA: 0s - loss: 0.0056 - accuracy: 0.9994\n",
      "Epoch 52: val_accuracy did not improve from 0.92317\n",
      "289/289 [==============================] - 73s 251ms/step - loss: 0.0056 - accuracy: 0.9994 - val_loss: 0.3448 - val_accuracy: 0.9082\n",
      "Epoch 53/100\n",
      "289/289 [==============================] - ETA: 0s - loss: 0.4758 - accuracy: 0.8343\n",
      "Epoch 53: val_accuracy did not improve from 0.92317\n",
      "289/289 [==============================] - 73s 251ms/step - loss: 0.4758 - accuracy: 0.8343 - val_loss: 1.1404 - val_accuracy: 0.6957\n",
      "Epoch 54/100\n",
      "289/289 [==============================] - ETA: 0s - loss: 0.1881 - accuracy: 0.9343\n",
      "Epoch 54: val_accuracy did not improve from 0.92317\n",
      "289/289 [==============================] - 73s 251ms/step - loss: 0.1881 - accuracy: 0.9343 - val_loss: 0.6944 - val_accuracy: 0.7809\n",
      "Epoch 55/100\n",
      "289/289 [==============================] - ETA: 0s - loss: 0.1054 - accuracy: 0.9653\n",
      "Epoch 55: val_accuracy did not improve from 0.92317\n",
      "289/289 [==============================] - 73s 251ms/step - loss: 0.1054 - accuracy: 0.9653 - val_loss: 0.6477 - val_accuracy: 0.7761\n",
      "Epoch 56/100\n",
      "289/289 [==============================] - ETA: 0s - loss: 0.0639 - accuracy: 0.9790\n",
      "Epoch 56: val_accuracy did not improve from 0.92317\n",
      "289/289 [==============================] - 73s 251ms/step - loss: 0.0639 - accuracy: 0.9790 - val_loss: 0.5309 - val_accuracy: 0.8175\n",
      "Epoch 57/100\n",
      "289/289 [==============================] - ETA: 0s - loss: 0.0538 - accuracy: 0.9831\n",
      "Epoch 57: val_accuracy did not improve from 0.92317\n",
      "289/289 [==============================] - 73s 251ms/step - loss: 0.0538 - accuracy: 0.9831 - val_loss: 0.4937 - val_accuracy: 0.8523\n",
      "Epoch 58/100\n",
      "289/289 [==============================] - ETA: 0s - loss: 0.0424 - accuracy: 0.9891\n",
      "Epoch 58: val_accuracy did not improve from 0.92317\n",
      "289/289 [==============================] - 73s 252ms/step - loss: 0.0424 - accuracy: 0.9891 - val_loss: 0.4200 - val_accuracy: 0.8613\n",
      "Epoch 59/100\n",
      "289/289 [==============================] - ETA: 0s - loss: 0.0516 - accuracy: 0.9828\n",
      "Epoch 59: val_accuracy did not improve from 0.92317\n",
      "289/289 [==============================] - 73s 252ms/step - loss: 0.0516 - accuracy: 0.9828 - val_loss: 0.6064 - val_accuracy: 0.8019\n",
      "Epoch 60/100\n",
      "289/289 [==============================] - ETA: 0s - loss: 0.0478 - accuracy: 0.9858\n",
      "Epoch 60: val_accuracy did not improve from 0.92317\n",
      "289/289 [==============================] - 73s 252ms/step - loss: 0.0478 - accuracy: 0.9858 - val_loss: 0.4782 - val_accuracy: 0.8421\n",
      "Epoch 61/100\n",
      "289/289 [==============================] - ETA: 0s - loss: 0.0551 - accuracy: 0.9817\n",
      "Epoch 61: val_accuracy did not improve from 0.92317\n",
      "289/289 [==============================] - 73s 252ms/step - loss: 0.0551 - accuracy: 0.9817 - val_loss: 0.4754 - val_accuracy: 0.8487\n",
      "Epoch 62/100\n",
      "289/289 [==============================] - ETA: 0s - loss: 0.0411 - accuracy: 0.9876\n",
      "Epoch 62: val_accuracy did not improve from 0.92317\n",
      "289/289 [==============================] - 73s 252ms/step - loss: 0.0411 - accuracy: 0.9876 - val_loss: 0.4162 - val_accuracy: 0.8667\n",
      "Epoch 63/100\n",
      "289/289 [==============================] - ETA: 0s - loss: 0.0489 - accuracy: 0.9839\n",
      "Epoch 63: val_accuracy did not improve from 0.92317\n",
      "289/289 [==============================] - 73s 252ms/step - loss: 0.0489 - accuracy: 0.9839 - val_loss: 0.7907 - val_accuracy: 0.7527\n",
      "Epoch 64/100\n",
      "289/289 [==============================] - ETA: 0s - loss: 0.0443 - accuracy: 0.9849\n",
      "Epoch 64: val_accuracy did not improve from 0.92317\n",
      "289/289 [==============================] - 73s 252ms/step - loss: 0.0443 - accuracy: 0.9849 - val_loss: 0.5701 - val_accuracy: 0.8571\n",
      "Epoch 65/100\n",
      "289/289 [==============================] - ETA: 0s - loss: 0.0399 - accuracy: 0.9883\n",
      "Epoch 65: val_accuracy did not improve from 0.92317\n",
      "289/289 [==============================] - 73s 251ms/step - loss: 0.0399 - accuracy: 0.9883 - val_loss: 0.4024 - val_accuracy: 0.8703\n",
      "Epoch 66/100\n",
      "289/289 [==============================] - ETA: 0s - loss: 0.0371 - accuracy: 0.9881\n",
      "Epoch 66: val_accuracy did not improve from 0.92317\n",
      "289/289 [==============================] - 73s 252ms/step - loss: 0.0371 - accuracy: 0.9881 - val_loss: 0.5212 - val_accuracy: 0.8379\n",
      "Epoch 67/100\n",
      "289/289 [==============================] - ETA: 0s - loss: 0.0376 - accuracy: 0.9877\n",
      "Epoch 67: val_accuracy did not improve from 0.92317\n",
      "289/289 [==============================] - 73s 252ms/step - loss: 0.0376 - accuracy: 0.9877 - val_loss: 0.3835 - val_accuracy: 0.8932\n",
      "Epoch 68/100\n",
      "289/289 [==============================] - ETA: 0s - loss: 0.0337 - accuracy: 0.9892\n",
      "Epoch 68: val_accuracy did not improve from 0.92317\n",
      "289/289 [==============================] - 73s 251ms/step - loss: 0.0337 - accuracy: 0.9892 - val_loss: 0.3998 - val_accuracy: 0.8788\n",
      "Epoch 69/100\n",
      "289/289 [==============================] - ETA: 0s - loss: 0.0277 - accuracy: 0.9919\n",
      "Epoch 69: val_accuracy did not improve from 0.92317\n",
      "289/289 [==============================] - 73s 251ms/step - loss: 0.0277 - accuracy: 0.9919 - val_loss: 0.3524 - val_accuracy: 0.9010\n",
      "Epoch 70/100\n",
      "289/289 [==============================] - ETA: 0s - loss: 0.0293 - accuracy: 0.9910\n",
      "Epoch 70: val_accuracy did not improve from 0.92317\n",
      "289/289 [==============================] - 73s 251ms/step - loss: 0.0293 - accuracy: 0.9910 - val_loss: 0.5711 - val_accuracy: 0.8421\n",
      "Epoch 71/100\n",
      "289/289 [==============================] - ETA: 0s - loss: 0.0330 - accuracy: 0.9898\n",
      "Epoch 71: val_accuracy did not improve from 0.92317\n",
      "289/289 [==============================] - 73s 252ms/step - loss: 0.0330 - accuracy: 0.9898 - val_loss: 0.4391 - val_accuracy: 0.8601\n",
      "Epoch 72/100\n",
      "289/289 [==============================] - ETA: 0s - loss: 0.0333 - accuracy: 0.9892\n",
      "Epoch 72: val_accuracy did not improve from 0.92317\n",
      "289/289 [==============================] - 73s 251ms/step - loss: 0.0333 - accuracy: 0.9892 - val_loss: 0.4050 - val_accuracy: 0.8854\n",
      "Epoch 73/100\n",
      "289/289 [==============================] - ETA: 0s - loss: 0.0291 - accuracy: 0.9916\n",
      "Epoch 73: val_accuracy did not improve from 0.92317\n",
      "289/289 [==============================] - 73s 251ms/step - loss: 0.0291 - accuracy: 0.9916 - val_loss: 0.3901 - val_accuracy: 0.8842\n",
      "Epoch 74/100\n",
      "289/289 [==============================] - ETA: 0s - loss: 0.0247 - accuracy: 0.9921\n",
      "Epoch 74: val_accuracy did not improve from 0.92317\n",
      "289/289 [==============================] - 73s 251ms/step - loss: 0.0247 - accuracy: 0.9921 - val_loss: 1.1476 - val_accuracy: 0.6915\n",
      "Epoch 75/100\n",
      "289/289 [==============================] - ETA: 0s - loss: 0.0232 - accuracy: 0.9928\n",
      "Epoch 75: val_accuracy did not improve from 0.92317\n",
      "289/289 [==============================] - 73s 252ms/step - loss: 0.0232 - accuracy: 0.9928 - val_loss: 0.4786 - val_accuracy: 0.8559\n",
      "Epoch 76/100\n",
      "289/289 [==============================] - ETA: 0s - loss: 0.0206 - accuracy: 0.9934\n",
      "Epoch 76: val_accuracy did not improve from 0.92317\n",
      "289/289 [==============================] - 73s 251ms/step - loss: 0.0206 - accuracy: 0.9934 - val_loss: 0.6050 - val_accuracy: 0.8433\n",
      "Epoch 77/100\n",
      "289/289 [==============================] - ETA: 0s - loss: 0.0239 - accuracy: 0.9923\n",
      "Epoch 77: val_accuracy did not improve from 0.92317\n",
      "289/289 [==============================] - 73s 252ms/step - loss: 0.0239 - accuracy: 0.9923 - val_loss: 0.4423 - val_accuracy: 0.8806\n",
      "Epoch 78/100\n",
      "289/289 [==============================] - ETA: 0s - loss: 0.0257 - accuracy: 0.9917\n",
      "Epoch 78: val_accuracy did not improve from 0.92317\n",
      "289/289 [==============================] - 73s 252ms/step - loss: 0.0257 - accuracy: 0.9917 - val_loss: 0.3246 - val_accuracy: 0.9124\n",
      "Epoch 79/100\n",
      "289/289 [==============================] - ETA: 0s - loss: 0.0190 - accuracy: 0.9931\n",
      "Epoch 79: val_accuracy did not improve from 0.92317\n",
      "289/289 [==============================] - 73s 252ms/step - loss: 0.0190 - accuracy: 0.9931 - val_loss: 0.3527 - val_accuracy: 0.9016\n",
      "Epoch 80/100\n",
      "289/289 [==============================] - ETA: 0s - loss: 0.0188 - accuracy: 0.9949\n",
      "Epoch 80: val_accuracy did not improve from 0.92317\n",
      "289/289 [==============================] - 73s 252ms/step - loss: 0.0188 - accuracy: 0.9949 - val_loss: 0.4722 - val_accuracy: 0.8685\n",
      "Epoch 81/100\n",
      "289/289 [==============================] - ETA: 0s - loss: 0.0160 - accuracy: 0.9959\n",
      "Epoch 81: val_accuracy did not improve from 0.92317\n",
      "289/289 [==============================] - 73s 252ms/step - loss: 0.0160 - accuracy: 0.9959 - val_loss: 0.3602 - val_accuracy: 0.9070\n",
      "Epoch 82/100\n",
      "289/289 [==============================] - ETA: 0s - loss: 0.0141 - accuracy: 0.9951\n",
      "Epoch 82: val_accuracy did not improve from 0.92317\n",
      "289/289 [==============================] - 73s 252ms/step - loss: 0.0141 - accuracy: 0.9951 - val_loss: 0.3291 - val_accuracy: 0.9136\n",
      "Epoch 83/100\n",
      "289/289 [==============================] - ETA: 0s - loss: 0.0109 - accuracy: 0.9977\n",
      "Epoch 83: val_accuracy did not improve from 0.92317\n",
      "289/289 [==============================] - 73s 252ms/step - loss: 0.0109 - accuracy: 0.9977 - val_loss: 0.3401 - val_accuracy: 0.9040\n",
      "Epoch 84/100\n",
      "289/289 [==============================] - ETA: 0s - loss: 0.0070 - accuracy: 0.9990\n",
      "Epoch 84: val_accuracy did not improve from 0.92317\n",
      "289/289 [==============================] - 73s 252ms/step - loss: 0.0070 - accuracy: 0.9990 - val_loss: 0.3115 - val_accuracy: 0.9208\n",
      "Epoch 85/100\n",
      "289/289 [==============================] - ETA: 0s - loss: 0.0088 - accuracy: 0.9975\n",
      "Epoch 85: val_accuracy did not improve from 0.92317\n",
      "289/289 [==============================] - 73s 252ms/step - loss: 0.0088 - accuracy: 0.9975 - val_loss: 0.3145 - val_accuracy: 0.9184\n",
      "Epoch 86/100\n",
      "289/289 [==============================] - ETA: 0s - loss: 0.0094 - accuracy: 0.9974\n",
      "Epoch 86: val_accuracy did not improve from 0.92317\n",
      "289/289 [==============================] - 73s 252ms/step - loss: 0.0094 - accuracy: 0.9974 - val_loss: 0.3858 - val_accuracy: 0.8884\n",
      "Epoch 87/100\n",
      "289/289 [==============================] - ETA: 0s - loss: 0.0094 - accuracy: 0.9976\n",
      "Epoch 87: val_accuracy did not improve from 0.92317\n",
      "289/289 [==============================] - 73s 252ms/step - loss: 0.0094 - accuracy: 0.9976 - val_loss: 0.3602 - val_accuracy: 0.9172\n",
      "Epoch 88/100\n",
      "289/289 [==============================] - ETA: 0s - loss: 0.0101 - accuracy: 0.9972\n",
      "Epoch 88: val_accuracy did not improve from 0.92317\n",
      "289/289 [==============================] - 73s 252ms/step - loss: 0.0101 - accuracy: 0.9972 - val_loss: 0.3898 - val_accuracy: 0.9028\n",
      "Epoch 89/100\n",
      "289/289 [==============================] - ETA: 0s - loss: 0.0080 - accuracy: 0.9978\n",
      "Epoch 89: val_accuracy did not improve from 0.92317\n",
      "289/289 [==============================] - 73s 252ms/step - loss: 0.0080 - accuracy: 0.9978 - val_loss: 0.3141 - val_accuracy: 0.9100\n",
      "Epoch 90/100\n",
      "289/289 [==============================] - ETA: 0s - loss: 0.0045 - accuracy: 0.9994\n",
      "Epoch 90: val_accuracy improved from 0.92317 to 0.92377, saving model to /kaggle/working/model.h5\n",
      "289/289 [==============================] - 74s 255ms/step - loss: 0.0045 - accuracy: 0.9994 - val_loss: 0.2914 - val_accuracy: 0.9238\n",
      "Epoch 91/100\n",
      "289/289 [==============================] - ETA: 0s - loss: 0.0060 - accuracy: 0.9986\n",
      "Epoch 91: val_accuracy did not improve from 0.92377\n",
      "289/289 [==============================] - 73s 252ms/step - loss: 0.0060 - accuracy: 0.9986 - val_loss: 0.3232 - val_accuracy: 0.9160\n",
      "Epoch 92/100\n",
      "289/289 [==============================] - ETA: 0s - loss: 0.0084 - accuracy: 0.9976\n",
      "Epoch 92: val_accuracy did not improve from 0.92377\n",
      "289/289 [==============================] - 73s 252ms/step - loss: 0.0084 - accuracy: 0.9976 - val_loss: 0.3657 - val_accuracy: 0.8908\n",
      "Epoch 93/100\n",
      "289/289 [==============================] - ETA: 0s - loss: 0.0072 - accuracy: 0.9978\n",
      "Epoch 93: val_accuracy did not improve from 0.92377\n",
      "289/289 [==============================] - 73s 252ms/step - loss: 0.0072 - accuracy: 0.9978 - val_loss: 0.3520 - val_accuracy: 0.9118\n",
      "Epoch 94/100\n",
      "289/289 [==============================] - ETA: 0s - loss: 0.0067 - accuracy: 0.9984\n",
      "Epoch 94: val_accuracy did not improve from 0.92377\n",
      "289/289 [==============================] - 73s 252ms/step - loss: 0.0067 - accuracy: 0.9984 - val_loss: 0.3520 - val_accuracy: 0.9112\n",
      "Epoch 95/100\n",
      "289/289 [==============================] - ETA: 0s - loss: 0.0057 - accuracy: 0.9984\n",
      "Epoch 95: val_accuracy did not improve from 0.92377\n",
      "289/289 [==============================] - 73s 252ms/step - loss: 0.0057 - accuracy: 0.9984 - val_loss: 0.3176 - val_accuracy: 0.9184\n",
      "Epoch 96/100\n",
      "289/289 [==============================] - ETA: 0s - loss: 0.0050 - accuracy: 0.9991\n",
      "Epoch 96: val_accuracy did not improve from 0.92377\n",
      "289/289 [==============================] - 73s 252ms/step - loss: 0.0050 - accuracy: 0.9991 - val_loss: 0.3312 - val_accuracy: 0.9100\n",
      "Epoch 97/100\n",
      "289/289 [==============================] - ETA: 0s - loss: 0.0047 - accuracy: 0.9986\n",
      "Epoch 97: val_accuracy did not improve from 0.92377\n",
      "289/289 [==============================] - 73s 252ms/step - loss: 0.0047 - accuracy: 0.9986 - val_loss: 0.3378 - val_accuracy: 0.9142\n",
      "Epoch 98/100\n",
      "289/289 [==============================] - ETA: 0s - loss: 0.0029 - accuracy: 0.9998\n",
      "Epoch 98: val_accuracy did not improve from 0.92377\n",
      "289/289 [==============================] - 73s 252ms/step - loss: 0.0029 - accuracy: 0.9998 - val_loss: 0.3241 - val_accuracy: 0.9202\n",
      "Epoch 99/100\n",
      "289/289 [==============================] - ETA: 0s - loss: 0.0041 - accuracy: 0.9989\n",
      "Epoch 99: val_accuracy improved from 0.92377 to 0.92677, saving model to /kaggle/working/model.h5\n",
      "289/289 [==============================] - 74s 255ms/step - loss: 0.0041 - accuracy: 0.9989 - val_loss: 0.3030 - val_accuracy: 0.9268\n",
      "Epoch 100/100\n",
      "289/289 [==============================] - ETA: 0s - loss: 0.0047 - accuracy: 0.9989\n",
      "Epoch 100: val_accuracy did not improve from 0.92677\n",
      "289/289 [==============================] - 73s 252ms/step - loss: 0.0047 - accuracy: 0.9989 - val_loss: 0.2862 - val_accuracy: 0.9256\n"
     ]
    }
   ],
   "source": [
    "history = my_model.fit(X_train, y_train, \n",
    "                    validation_data=[X_test, y_test],\n",
    "                    class_weight=class_weights,\n",
    "                    callbacks=callbacks,\n",
    "                    epochs=100, batch_size=32)"
   ]
  },
  {
   "cell_type": "code",
   "execution_count": 51,
   "metadata": {
    "execution": {
     "iopub.execute_input": "2024-04-15T10:34:00.467296Z",
     "iopub.status.busy": "2024-04-15T10:34:00.466589Z",
     "iopub.status.idle": "2024-04-15T10:34:02.436229Z",
     "shell.execute_reply": "2024-04-15T10:34:02.435347Z",
     "shell.execute_reply.started": "2024-04-15T10:34:00.467266Z"
    }
   },
   "outputs": [
    {
     "data": {
      "image/png": "[encoded data removed]",
      "text/plain": [
       "<Figure size 800x600 with 1 Axes>"
      ]
     },
     "metadata": {},
     "output_type": "display_data"
    }
   ],
   "source": [
    "plt.figure(figsize=(8, 6))  # Increase figure size\n",
    "plt.plot(history.history['accuracy'], linestyle='-', color='blue', label='Train')  # Adjust line color\n",
    "plt.plot(history.history['val_accuracy'], linestyle='-', color='orange', label='Validation')  # Adjust line color\n",
    "plt.title('Training and Validation Accuracy', fontsize=16)  # Increase title font size\n",
    "plt.xlabel('Epoch', fontsize=14)  # Increase x-axis label font size\n",
    "plt.ylabel('Accuracy', fontsize=14)  # Increase y-axis label font size\n",
    "plt.legend(loc='upper right', fontsize=12)  # Adjust legend location and font size\n",
    "plt.grid(True, linestyle='--', alpha=0.5, color='gray')  # Add gridlines with a dashed style\n",
    "plt.tight_layout()  # Adjust layout for better spacing\n",
    "plt.savefig('CResPIE-ViT acc graph.png', dpi=600)\n",
    "plt.show()"
   ]
  },
  {
   "cell_type": "code",
   "execution_count": 52,
   "metadata": {
    "execution": {
     "iopub.execute_input": "2024-04-15T10:34:13.544932Z",
     "iopub.status.busy": "2024-04-15T10:34:13.544566Z",
     "iopub.status.idle": "2024-04-15T10:34:15.393020Z",
     "shell.execute_reply": "2024-04-15T10:34:15.392122Z",
     "shell.execute_reply.started": "2024-04-15T10:34:13.544902Z"
    }
   },
   "outputs": [
    {
     "data": {
      "image/png": "[encoded data removed]",
      "text/plain": [
       "<Figure size 800x600 with 1 Axes>"
      ]
     },
     "metadata": {},
     "output_type": "display_data"
    }
   ],
   "source": [
    "plt.figure(figsize=(8, 6))  # Increase figure size\n",
    "plt.plot(history.history['loss'], linestyle='-', color='blue', label='Train')  # Adjust line color\n",
    "plt.plot(history.history['val_loss'], linestyle='-', color='orange', label='Validation')  # Adjust line color\n",
    "plt.title('Training and Validation Loss', fontsize=16)  # Increase title font size\n",
    "plt.xlabel('Epoch', fontsize=14)  # Increase x-axis label font size\n",
    "plt.ylabel('Loss', fontsize=14)  # Increase y-axis label font size\n",
    "plt.legend(loc='upper right', fontsize=12)  # Adjust legend location and font size\n",
    "plt.grid(True, linestyle='--', alpha=0.5, color='gray')  # Add gridlines with a dashed style\n",
    "plt.tight_layout()  # Adjust layout for better spacing\n",
    "plt.savefig('CResPIE-ViT loss graph.png', dpi=600)\n",
    "plt.show()"
   ]
  },
  {
   "cell_type": "code",
   "execution_count": 37,
   "metadata": {
    "execution": {
     "iopub.execute_input": "2024-04-15T10:26:33.297574Z",
     "iopub.status.busy": "2024-04-15T10:26:33.297203Z",
     "iopub.status.idle": "2024-04-15T10:26:37.475531Z",
     "shell.execute_reply": "2024-04-15T10:26:37.474712Z",
     "shell.execute_reply.started": "2024-04-15T10:26:33.297545Z"
    }
   },
   "outputs": [],
   "source": [
    "load_model = tf.keras.models.load_model('/kaggle/working/model.h5',\n",
    "                                   custom_objects={'ChannelAttentionModule':ChannelAttentionModule,\n",
    "                        'SpatialAttentionModule':SpatialAttentionModule})"
   ]
  },
  {
   "cell_type": "markdown",
   "metadata": {},
   "source": [
    "# Performance Evaluation"
   ]
  },
  {
   "cell_type": "code",
   "execution_count": 38,
   "metadata": {
    "execution": {
     "iopub.execute_input": "2024-04-15T10:26:41.777566Z",
     "iopub.status.busy": "2024-04-15T10:26:41.776698Z",
     "iopub.status.idle": "2024-04-15T10:26:48.026391Z",
     "shell.execute_reply": "2024-04-15T10:26:48.025523Z",
     "shell.execute_reply.started": "2024-04-15T10:26:41.777531Z"
    }
   },
   "outputs": [
    {
     "name": "stdout",
     "output_type": "stream",
     "text": [
      "53/53 [==============================] - 6s 71ms/step - loss: 0.3030 - accuracy: 0.9268\n"
     ]
    },
    {
     "data": {
      "text/plain": [
       "[0.30301225185394287, 0.9267706871032715]"
      ]
     },
     "execution_count": 38,
     "metadata": {},
     "output_type": "execute_result"
    }
   ],
   "source": [
    "load_model.evaluate(X_test, y_test)"
   ]
  },
  {
   "cell_type": "code",
   "execution_count": 39,
   "metadata": {
    "execution": {
     "iopub.execute_input": "2024-04-15T10:26:52.847544Z",
     "iopub.status.busy": "2024-04-15T10:26:52.847178Z",
     "iopub.status.idle": "2024-04-15T10:26:58.851620Z",
     "shell.execute_reply": "2024-04-15T10:26:58.850525Z",
     "shell.execute_reply.started": "2024-04-15T10:26:52.847515Z"
    }
   },
   "outputs": [
    {
     "name": "stdout",
     "output_type": "stream",
     "text": [
      "53/53 [==============================] - 5s 68ms/step\n"
     ]
    }
   ],
   "source": [
    "y_pred = load_model.predict(X_test)"
   ]
  },
  {
   "cell_type": "code",
   "execution_count": 40,
   "metadata": {
    "execution": {
     "iopub.execute_input": "2024-04-15T10:27:01.446774Z",
     "iopub.status.busy": "2024-04-15T10:27:01.446022Z",
     "iopub.status.idle": "2024-04-15T10:27:01.453303Z",
     "shell.execute_reply": "2024-04-15T10:27:01.452429Z",
     "shell.execute_reply.started": "2024-04-15T10:27:01.446742Z"
    }
   },
   "outputs": [
    {
     "data": {
      "text/plain": [
       "array([1, 0, 0, ..., 3, 3, 3])"
      ]
     },
     "execution_count": 40,
     "metadata": {},
     "output_type": "execute_result"
    }
   ],
   "source": [
    "y_pred = np.argmax(y_pred, axis=1)\n",
    "y_pred"
   ]
  },
  {
   "cell_type": "code",
   "execution_count": 41,
   "metadata": {
    "execution": {
     "iopub.execute_input": "2024-04-15T10:27:04.606230Z",
     "iopub.status.busy": "2024-04-15T10:27:04.605861Z",
     "iopub.status.idle": "2024-04-15T10:27:04.610547Z",
     "shell.execute_reply": "2024-04-15T10:27:04.609463Z",
     "shell.execute_reply.started": "2024-04-15T10:27:04.606200Z"
    }
   },
   "outputs": [],
   "source": [
    "y_true = y_test"
   ]
  },
  {
   "cell_type": "code",
   "execution_count": 42,
   "metadata": {
    "execution": {
     "iopub.execute_input": "2024-04-15T10:27:07.062165Z",
     "iopub.status.busy": "2024-04-15T10:27:07.061792Z",
     "iopub.status.idle": "2024-04-15T10:27:07.078178Z",
     "shell.execute_reply": "2024-04-15T10:27:07.077196Z",
     "shell.execute_reply.started": "2024-04-15T10:27:07.062135Z"
    }
   },
   "outputs": [
    {
     "name": "stdout",
     "output_type": "stream",
     "text": [
      "              precision    recall  f1-score   support\n",
      "\n",
      "           0       0.93      0.89      0.91       381\n",
      "           1       0.93      0.96      0.95      1026\n",
      "           2       0.93      0.82      0.87       188\n",
      "           3       0.89      0.89      0.89        71\n",
      "\n",
      "    accuracy                           0.93      1666\n",
      "   macro avg       0.92      0.89      0.90      1666\n",
      "weighted avg       0.93      0.93      0.93      1666\n",
      "\n"
     ]
    }
   ],
   "source": [
    "print(classification_report(y_true, y_pred))"
   ]
  },
  {
   "cell_type": "code",
   "execution_count": 43,
   "metadata": {
    "execution": {
     "iopub.execute_input": "2024-04-15T10:27:39.364015Z",
     "iopub.status.busy": "2024-04-15T10:27:39.363376Z",
     "iopub.status.idle": "2024-04-15T10:27:39.373000Z",
     "shell.execute_reply": "2024-04-15T10:27:39.371411Z",
     "shell.execute_reply.started": "2024-04-15T10:27:39.363981Z"
    }
   },
   "outputs": [
    {
     "name": "stdout",
     "output_type": "stream",
     "text": [
      "[[339  39   2   1]\n",
      " [ 23 988  10   5]\n",
      " [  3  29 154   2]\n",
      " [  1   7   0  63]]\n"
     ]
    }
   ],
   "source": [
    "print(confusion_matrix(y_true, y_pred))"
   ]
  },
  {
   "cell_type": "code",
   "execution_count": null,
   "metadata": {},
   "outputs": [],
   "source": []
  }
 ],
 "metadata": {
  "kaggle": {
   "accelerator": "gpu",
   "dataSources": [
    {
     "datasetId": 3954083,
     "sourceId": 6882101,
     "sourceType": "datasetVersion"
    },
    {
     "datasetId": 3975344,
     "sourceId": 6923186,
     "sourceType": "datasetVersion"
    }
   ],
   "dockerImageVersionId": 30627,
   "isGpuEnabled": true,
   "isInternetEnabled": true,
   "language": "python",
   "sourceType": "notebook"
  },
  "kernelspec": {
   "display_name": "Python 3 (ipykernel)",
   "language": "python",
   "name": "python3"
  },
  "language_info": {
   "codemirror_mode": {
    "name": "ipython",
    "version": 3
   },
   "file_extension": ".py",
   "mimetype": "text/x-python",
   "name": "python",
   "nbconvert_exporter": "python",
   "pygments_lexer": "ipython3",
   "version": "3.9.12"
  }
 },
 "nbformat": 4,
 "nbformat_minor": 4
}
